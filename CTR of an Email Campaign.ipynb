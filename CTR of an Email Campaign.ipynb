{
 "cells": [
  {
   "cell_type": "markdown",
   "id": "7125292b",
   "metadata": {},
   "source": [
    "# Problem Statement"
   ]
  },
  {
   "cell_type": "markdown",
   "id": "077da652",
   "metadata": {},
   "source": [
    "Most organizations today rely on email campaigns for effective communication with users. Email communication is one of the \n",
    "\n",
    "popular ways to pitch products to users and build trustworthy relationships with them.\n",
    "\n",
    "\n",
    "Email campaigns contain different types of CTA (Call To Action). The ultimate goal of email campaigns is to maximize the Click \n",
    "\n",
    "Through Rate (CTR).\n",
    "\n",
    "\n",
    "CTR is a measure of success for email campaigns. The higher the click rate, the better your email marketing campaign is. CTR is \n",
    "\n",
    "calculated by the no. of users who clicked on at least one of the CTA divided by the total no. of users the email was delivered \n",
    "\n",
    "to.\n",
    "\n",
    "\n",
    "CTR =   No. of users who clicked on at least one of the CTA / No. of emails delivered\n",
    "\n",
    "\n",
    "CTR depends on multiple factors like design, content, personalization, etc. "
   ]
  },
  {
   "cell_type": "markdown",
   "id": "4189535d",
   "metadata": {},
   "source": [
    "   __1.How do you design the email content effectively?__\n",
    "\n",
    "   __2.What should your subject line look like?__\n",
    "\n",
    "   __3.What should be the length of the email?__\n",
    "\n",
    "   __4.Do you need images in your email template?__\n",
    "\n",
    "As a part of the Data Science team, in this hackathon, you will build a smart system to predict the CTR for email campaigns and\n",
    "\n",
    "therefore identify the critical factors that will help the marketing team to maximize the CTR."
   ]
  },
  {
   "cell_type": "code",
   "execution_count": null,
   "id": "22573876",
   "metadata": {},
   "outputs": [],
   "source": []
  },
  {
   "cell_type": "markdown",
   "id": "0c421690",
   "metadata": {},
   "source": [
    " __Table of Content__\n",
    " \n",
    " __Step 1: Importing the Relevant Libraries__\n",
    "\n",
    " __Step 2: Data Inspection__\n",
    "  \n",
    " __Step 3: Label Encoding__\n",
    "\n",
    " __Step 4: Exploratory Data Analysis__\n",
    "\n",
    " __Step 5: Feature Selection__\n",
    " \n",
    " __Step 6: Building Model__\n",
    "\n",
    " __Make a Submission file__"
   ]
  },
  {
   "cell_type": "code",
   "execution_count": null,
   "id": "40539145",
   "metadata": {},
   "outputs": [],
   "source": []
  },
  {
   "cell_type": "code",
   "execution_count": null,
   "id": "7437955d",
   "metadata": {},
   "outputs": [],
   "source": []
  },
  {
   "cell_type": "code",
   "execution_count": null,
   "id": "7c6105fc",
   "metadata": {},
   "outputs": [],
   "source": []
  },
  {
   "cell_type": "markdown",
   "id": "05eb944b",
   "metadata": {},
   "source": [
    "# Step 1: Importing the Relevant Libraries"
   ]
  },
  {
   "cell_type": "code",
   "execution_count": 198,
   "id": "93c4a038",
   "metadata": {},
   "outputs": [],
   "source": [
    "import matplotlib.pyplot as plt\n",
    "import pandas as pd\n",
    "import numpy as np\n",
    "import seaborn as sns\n",
    "from sklearn.tree import DecisionTreeRegressor, export_graphviz\n",
    "from sklearn.linear_model import LinearRegression\n",
    "from sklearn import tree\n",
    "from sklearn.model_selection import train_test_split,GridSearchCV\n",
    "from sklearn.preprocessing import StandardScaler\n",
    "from sklearn.metrics import accuracy_score, confusion_matrix,mean_squared_error,mean_absolute_error,r2_score\n",
    "from sklearn import metrics\n",
    "import warnings\n",
    "warnings.filterwarnings('always')\n",
    "warnings.filterwarnings('ignore')"
   ]
  },
  {
   "cell_type": "markdown",
   "id": "adad3b17",
   "metadata": {},
   "source": [
    "# Step 2: Data Inspection"
   ]
  },
  {
   "cell_type": "code",
   "execution_count": 2,
   "id": "8f60fccc",
   "metadata": {
    "id": "8f60fccc"
   },
   "outputs": [],
   "source": [
    "train_data = pd.read_csv(\"train_F3fUq2S.csv\")\n",
    "test_data = pd.read_csv(\"test_Bk2wfZ3.csv\")"
   ]
  },
  {
   "cell_type": "code",
   "execution_count": 3,
   "id": "632efdef",
   "metadata": {
    "colab": {
     "base_uri": "https://localhost:8080/"
    },
    "id": "632efdef",
    "outputId": "7c33098c-e090-4d2a-f4a0-f36194e31143"
   },
   "outputs": [
    {
     "data": {
      "text/plain": [
       "((1888, 22), (762, 21))"
      ]
     },
     "execution_count": 3,
     "metadata": {},
     "output_type": "execute_result"
    }
   ],
   "source": [
    "train_data.shape,test_data.shape"
   ]
  },
  {
   "cell_type": "code",
   "execution_count": 4,
   "id": "I03hZxV85Eul",
   "metadata": {
    "colab": {
     "base_uri": "https://localhost:8080/",
     "height": 299
    },
    "id": "I03hZxV85Eul",
    "outputId": "fe1bc2d1-b96e-4bfa-a6a3-723c7504d442"
   },
   "outputs": [
    {
     "data": {
      "text/html": [
       "<div>\n",
       "<style scoped>\n",
       "    .dataframe tbody tr th:only-of-type {\n",
       "        vertical-align: middle;\n",
       "    }\n",
       "\n",
       "    .dataframe tbody tr th {\n",
       "        vertical-align: top;\n",
       "    }\n",
       "\n",
       "    .dataframe thead th {\n",
       "        text-align: right;\n",
       "    }\n",
       "</style>\n",
       "<table border=\"1\" class=\"dataframe\">\n",
       "  <thead>\n",
       "    <tr style=\"text-align: right;\">\n",
       "      <th></th>\n",
       "      <th>campaign_id</th>\n",
       "      <th>sender</th>\n",
       "      <th>subject_len</th>\n",
       "      <th>body_len</th>\n",
       "      <th>mean_paragraph_len</th>\n",
       "      <th>day_of_week</th>\n",
       "      <th>is_weekend</th>\n",
       "      <th>times_of_day</th>\n",
       "      <th>category</th>\n",
       "      <th>product</th>\n",
       "      <th>...</th>\n",
       "      <th>is_image</th>\n",
       "      <th>is_personalised</th>\n",
       "      <th>is_quote</th>\n",
       "      <th>is_timer</th>\n",
       "      <th>is_emoticons</th>\n",
       "      <th>is_discount</th>\n",
       "      <th>is_price</th>\n",
       "      <th>is_urgency</th>\n",
       "      <th>target_audience</th>\n",
       "      <th>click_rate</th>\n",
       "    </tr>\n",
       "  </thead>\n",
       "  <tbody>\n",
       "    <tr>\n",
       "      <th>0</th>\n",
       "      <td>1</td>\n",
       "      <td>3</td>\n",
       "      <td>76</td>\n",
       "      <td>10439</td>\n",
       "      <td>39</td>\n",
       "      <td>5</td>\n",
       "      <td>1</td>\n",
       "      <td>Noon</td>\n",
       "      <td>6</td>\n",
       "      <td>26</td>\n",
       "      <td>...</td>\n",
       "      <td>0</td>\n",
       "      <td>0</td>\n",
       "      <td>0</td>\n",
       "      <td>0</td>\n",
       "      <td>0</td>\n",
       "      <td>0</td>\n",
       "      <td>0</td>\n",
       "      <td>0</td>\n",
       "      <td>14</td>\n",
       "      <td>0.103079</td>\n",
       "    </tr>\n",
       "    <tr>\n",
       "      <th>1</th>\n",
       "      <td>2</td>\n",
       "      <td>3</td>\n",
       "      <td>54</td>\n",
       "      <td>2570</td>\n",
       "      <td>256</td>\n",
       "      <td>5</td>\n",
       "      <td>1</td>\n",
       "      <td>Morning</td>\n",
       "      <td>2</td>\n",
       "      <td>11</td>\n",
       "      <td>...</td>\n",
       "      <td>0</td>\n",
       "      <td>0</td>\n",
       "      <td>0</td>\n",
       "      <td>0</td>\n",
       "      <td>0</td>\n",
       "      <td>0</td>\n",
       "      <td>0</td>\n",
       "      <td>0</td>\n",
       "      <td>10</td>\n",
       "      <td>0.700000</td>\n",
       "    </tr>\n",
       "    <tr>\n",
       "      <th>2</th>\n",
       "      <td>3</td>\n",
       "      <td>3</td>\n",
       "      <td>59</td>\n",
       "      <td>12801</td>\n",
       "      <td>16</td>\n",
       "      <td>5</td>\n",
       "      <td>1</td>\n",
       "      <td>Noon</td>\n",
       "      <td>2</td>\n",
       "      <td>11</td>\n",
       "      <td>...</td>\n",
       "      <td>1</td>\n",
       "      <td>0</td>\n",
       "      <td>1</td>\n",
       "      <td>0</td>\n",
       "      <td>0</td>\n",
       "      <td>0</td>\n",
       "      <td>0</td>\n",
       "      <td>0</td>\n",
       "      <td>16</td>\n",
       "      <td>0.002769</td>\n",
       "    </tr>\n",
       "    <tr>\n",
       "      <th>3</th>\n",
       "      <td>4</td>\n",
       "      <td>3</td>\n",
       "      <td>74</td>\n",
       "      <td>11037</td>\n",
       "      <td>30</td>\n",
       "      <td>4</td>\n",
       "      <td>0</td>\n",
       "      <td>Evening</td>\n",
       "      <td>15</td>\n",
       "      <td>9</td>\n",
       "      <td>...</td>\n",
       "      <td>0</td>\n",
       "      <td>0</td>\n",
       "      <td>0</td>\n",
       "      <td>0</td>\n",
       "      <td>0</td>\n",
       "      <td>0</td>\n",
       "      <td>0</td>\n",
       "      <td>0</td>\n",
       "      <td>10</td>\n",
       "      <td>0.010868</td>\n",
       "    </tr>\n",
       "    <tr>\n",
       "      <th>4</th>\n",
       "      <td>5</td>\n",
       "      <td>3</td>\n",
       "      <td>80</td>\n",
       "      <td>10011</td>\n",
       "      <td>27</td>\n",
       "      <td>5</td>\n",
       "      <td>1</td>\n",
       "      <td>Noon</td>\n",
       "      <td>6</td>\n",
       "      <td>26</td>\n",
       "      <td>...</td>\n",
       "      <td>0</td>\n",
       "      <td>0</td>\n",
       "      <td>1</td>\n",
       "      <td>0</td>\n",
       "      <td>0</td>\n",
       "      <td>0</td>\n",
       "      <td>0</td>\n",
       "      <td>0</td>\n",
       "      <td>14</td>\n",
       "      <td>0.142826</td>\n",
       "    </tr>\n",
       "  </tbody>\n",
       "</table>\n",
       "<p>5 rows × 22 columns</p>\n",
       "</div>"
      ],
      "text/plain": [
       "   campaign_id  sender  subject_len  body_len  mean_paragraph_len  \\\n",
       "0            1       3           76     10439                  39   \n",
       "1            2       3           54      2570                 256   \n",
       "2            3       3           59     12801                  16   \n",
       "3            4       3           74     11037                  30   \n",
       "4            5       3           80     10011                  27   \n",
       "\n",
       "   day_of_week  is_weekend times_of_day  category  product  ...  is_image  \\\n",
       "0            5           1         Noon         6       26  ...         0   \n",
       "1            5           1      Morning         2       11  ...         0   \n",
       "2            5           1         Noon         2       11  ...         1   \n",
       "3            4           0      Evening        15        9  ...         0   \n",
       "4            5           1         Noon         6       26  ...         0   \n",
       "\n",
       "   is_personalised  is_quote  is_timer  is_emoticons  is_discount  is_price  \\\n",
       "0                0         0         0             0            0         0   \n",
       "1                0         0         0             0            0         0   \n",
       "2                0         1         0             0            0         0   \n",
       "3                0         0         0             0            0         0   \n",
       "4                0         1         0             0            0         0   \n",
       "\n",
       "   is_urgency  target_audience  click_rate  \n",
       "0           0               14    0.103079  \n",
       "1           0               10    0.700000  \n",
       "2           0               16    0.002769  \n",
       "3           0               10    0.010868  \n",
       "4           0               14    0.142826  \n",
       "\n",
       "[5 rows x 22 columns]"
      ]
     },
     "execution_count": 4,
     "metadata": {},
     "output_type": "execute_result"
    }
   ],
   "source": [
    "train_data.head()"
   ]
  },
  {
   "cell_type": "markdown",
   "id": "9989a67e",
   "metadata": {
    "id": "9989a67e"
   },
   "source": [
    "* __We have 1888 rows and 22 columns in Train set whereas Test set has 762 rows and 21 columns.__"
   ]
  },
  {
   "cell_type": "markdown",
   "id": "WIW8ljtSKVX8",
   "metadata": {
    "id": "WIW8ljtSKVX8"
   },
   "source": []
  },
  {
   "cell_type": "code",
   "execution_count": 5,
   "id": "694f3f3c",
   "metadata": {
    "colab": {
     "base_uri": "https://localhost:8080/"
    },
    "id": "694f3f3c",
    "outputId": "fd841e1d-d88c-48cb-dc5d-b6a38c4c1a50"
   },
   "outputs": [
    {
     "data": {
      "text/plain": [
       "campaign_id           0\n",
       "sender                0\n",
       "subject_len           0\n",
       "body_len              0\n",
       "mean_paragraph_len    0\n",
       "day_of_week           0\n",
       "is_weekend            0\n",
       "times_of_day          0\n",
       "category              0\n",
       "product               0\n",
       "no_of_CTA             0\n",
       "mean_CTA_len          0\n",
       "is_image              0\n",
       "is_personalised       0\n",
       "is_quote              0\n",
       "is_timer              0\n",
       "is_emoticons          0\n",
       "is_discount           0\n",
       "is_price              0\n",
       "is_urgency            0\n",
       "target_audience       0\n",
       "click_rate            0\n",
       "dtype: int64"
      ]
     },
     "execution_count": 5,
     "metadata": {},
     "output_type": "execute_result"
    }
   ],
   "source": [
    "# null values in train data\n",
    "train_data.isnull().sum()"
   ]
  },
  {
   "cell_type": "code",
   "execution_count": 6,
   "id": "e8f219f1",
   "metadata": {
    "colab": {
     "base_uri": "https://localhost:8080/"
    },
    "id": "e8f219f1",
    "outputId": "c6d86a6a-56d4-4d82-dbdb-e6255cdddbdb"
   },
   "outputs": [
    {
     "data": {
      "text/plain": [
       "campaign_id           0\n",
       "sender                0\n",
       "subject_len           0\n",
       "body_len              0\n",
       "mean_paragraph_len    0\n",
       "day_of_week           0\n",
       "is_weekend            0\n",
       "times_of_day          0\n",
       "category              0\n",
       "product               0\n",
       "no_of_CTA             0\n",
       "mean_CTA_len          0\n",
       "is_image              0\n",
       "is_personalised       0\n",
       "is_quote              0\n",
       "is_timer              0\n",
       "is_emoticons          0\n",
       "is_discount           0\n",
       "is_price              0\n",
       "is_urgency            0\n",
       "target_audience       0\n",
       "dtype: int64"
      ]
     },
     "execution_count": 6,
     "metadata": {},
     "output_type": "execute_result"
    }
   ],
   "source": [
    "# null values in test data\n",
    "test_data.isnull().sum()"
   ]
  },
  {
   "cell_type": "markdown",
   "id": "d62ea47b",
   "metadata": {
    "id": "d62ea47b"
   },
   "source": [
    "* __We haven't any missing values in train data as well as test data.__"
   ]
  },
  {
   "cell_type": "code",
   "execution_count": 7,
   "id": "555255e1",
   "metadata": {
    "colab": {
     "base_uri": "https://localhost:8080/"
    },
    "id": "555255e1",
    "outputId": "71b60134-76e6-45f3-896a-6178de18f841"
   },
   "outputs": [
    {
     "name": "stdout",
     "output_type": "stream",
     "text": [
      "Categorical Features in Train Set: 1\n",
      "Numerical Features in Train Set: 21\n"
     ]
    }
   ],
   "source": [
    "#categorical features\n",
    "categorical = train_data.select_dtypes(include =[np.object])\n",
    "print(\"Categorical Features in Train Set:\",categorical.shape[1])\n",
    "\n",
    "#numerical features\n",
    "numerical= train_data.select_dtypes(include =[np.float64,np.int64])\n",
    "print(\"Numerical Features in Train Set:\",numerical.shape[1])"
   ]
  },
  {
   "cell_type": "code",
   "execution_count": 8,
   "id": "c09d1957",
   "metadata": {
    "colab": {
     "base_uri": "https://localhost:8080/"
    },
    "id": "c09d1957",
    "outputId": "238945c2-1645-4587-8e15-a6fe0853cc60"
   },
   "outputs": [
    {
     "name": "stdout",
     "output_type": "stream",
     "text": [
      "Categorical Features in Test Set: 1\n",
      "Numerical Features in Test Set: 20\n"
     ]
    }
   ],
   "source": [
    "#categorical features\n",
    "categorical = test_data.select_dtypes(include =[np.object])\n",
    "print(\"Categorical Features in Test Set:\",categorical.shape[1])\n",
    "\n",
    "#numerical features\n",
    "numerical= test_data.select_dtypes(include =[np.float64,np.int64])\n",
    "print(\"Numerical Features in Test Set:\",numerical.shape[1])"
   ]
  },
  {
   "cell_type": "code",
   "execution_count": 9,
   "id": "28ed6dbc",
   "metadata": {
    "colab": {
     "base_uri": "https://localhost:8080/",
     "height": 299
    },
    "id": "28ed6dbc",
    "outputId": "de271172-bb9a-4ac2-d100-795d91ce4c66"
   },
   "outputs": [
    {
     "data": {
      "text/html": [
       "<div>\n",
       "<style scoped>\n",
       "    .dataframe tbody tr th:only-of-type {\n",
       "        vertical-align: middle;\n",
       "    }\n",
       "\n",
       "    .dataframe tbody tr th {\n",
       "        vertical-align: top;\n",
       "    }\n",
       "\n",
       "    .dataframe thead th {\n",
       "        text-align: right;\n",
       "    }\n",
       "</style>\n",
       "<table border=\"1\" class=\"dataframe\">\n",
       "  <thead>\n",
       "    <tr style=\"text-align: right;\">\n",
       "      <th></th>\n",
       "      <th>campaign_id</th>\n",
       "      <th>sender</th>\n",
       "      <th>subject_len</th>\n",
       "      <th>body_len</th>\n",
       "      <th>mean_paragraph_len</th>\n",
       "      <th>day_of_week</th>\n",
       "      <th>is_weekend</th>\n",
       "      <th>times_of_day</th>\n",
       "      <th>category</th>\n",
       "      <th>product</th>\n",
       "      <th>...</th>\n",
       "      <th>is_image</th>\n",
       "      <th>is_personalised</th>\n",
       "      <th>is_quote</th>\n",
       "      <th>is_timer</th>\n",
       "      <th>is_emoticons</th>\n",
       "      <th>is_discount</th>\n",
       "      <th>is_price</th>\n",
       "      <th>is_urgency</th>\n",
       "      <th>target_audience</th>\n",
       "      <th>click_rate</th>\n",
       "    </tr>\n",
       "  </thead>\n",
       "  <tbody>\n",
       "    <tr>\n",
       "      <th>0</th>\n",
       "      <td>1</td>\n",
       "      <td>3</td>\n",
       "      <td>76</td>\n",
       "      <td>10439</td>\n",
       "      <td>39</td>\n",
       "      <td>5</td>\n",
       "      <td>1</td>\n",
       "      <td>Noon</td>\n",
       "      <td>6</td>\n",
       "      <td>26</td>\n",
       "      <td>...</td>\n",
       "      <td>0</td>\n",
       "      <td>0</td>\n",
       "      <td>0</td>\n",
       "      <td>0</td>\n",
       "      <td>0</td>\n",
       "      <td>0</td>\n",
       "      <td>0</td>\n",
       "      <td>0</td>\n",
       "      <td>14</td>\n",
       "      <td>0.103079</td>\n",
       "    </tr>\n",
       "    <tr>\n",
       "      <th>1</th>\n",
       "      <td>2</td>\n",
       "      <td>3</td>\n",
       "      <td>54</td>\n",
       "      <td>2570</td>\n",
       "      <td>256</td>\n",
       "      <td>5</td>\n",
       "      <td>1</td>\n",
       "      <td>Morning</td>\n",
       "      <td>2</td>\n",
       "      <td>11</td>\n",
       "      <td>...</td>\n",
       "      <td>0</td>\n",
       "      <td>0</td>\n",
       "      <td>0</td>\n",
       "      <td>0</td>\n",
       "      <td>0</td>\n",
       "      <td>0</td>\n",
       "      <td>0</td>\n",
       "      <td>0</td>\n",
       "      <td>10</td>\n",
       "      <td>0.700000</td>\n",
       "    </tr>\n",
       "    <tr>\n",
       "      <th>2</th>\n",
       "      <td>3</td>\n",
       "      <td>3</td>\n",
       "      <td>59</td>\n",
       "      <td>12801</td>\n",
       "      <td>16</td>\n",
       "      <td>5</td>\n",
       "      <td>1</td>\n",
       "      <td>Noon</td>\n",
       "      <td>2</td>\n",
       "      <td>11</td>\n",
       "      <td>...</td>\n",
       "      <td>1</td>\n",
       "      <td>0</td>\n",
       "      <td>1</td>\n",
       "      <td>0</td>\n",
       "      <td>0</td>\n",
       "      <td>0</td>\n",
       "      <td>0</td>\n",
       "      <td>0</td>\n",
       "      <td>16</td>\n",
       "      <td>0.002769</td>\n",
       "    </tr>\n",
       "    <tr>\n",
       "      <th>3</th>\n",
       "      <td>4</td>\n",
       "      <td>3</td>\n",
       "      <td>74</td>\n",
       "      <td>11037</td>\n",
       "      <td>30</td>\n",
       "      <td>4</td>\n",
       "      <td>0</td>\n",
       "      <td>Evening</td>\n",
       "      <td>15</td>\n",
       "      <td>9</td>\n",
       "      <td>...</td>\n",
       "      <td>0</td>\n",
       "      <td>0</td>\n",
       "      <td>0</td>\n",
       "      <td>0</td>\n",
       "      <td>0</td>\n",
       "      <td>0</td>\n",
       "      <td>0</td>\n",
       "      <td>0</td>\n",
       "      <td>10</td>\n",
       "      <td>0.010868</td>\n",
       "    </tr>\n",
       "    <tr>\n",
       "      <th>4</th>\n",
       "      <td>5</td>\n",
       "      <td>3</td>\n",
       "      <td>80</td>\n",
       "      <td>10011</td>\n",
       "      <td>27</td>\n",
       "      <td>5</td>\n",
       "      <td>1</td>\n",
       "      <td>Noon</td>\n",
       "      <td>6</td>\n",
       "      <td>26</td>\n",
       "      <td>...</td>\n",
       "      <td>0</td>\n",
       "      <td>0</td>\n",
       "      <td>1</td>\n",
       "      <td>0</td>\n",
       "      <td>0</td>\n",
       "      <td>0</td>\n",
       "      <td>0</td>\n",
       "      <td>0</td>\n",
       "      <td>14</td>\n",
       "      <td>0.142826</td>\n",
       "    </tr>\n",
       "  </tbody>\n",
       "</table>\n",
       "<p>5 rows × 22 columns</p>\n",
       "</div>"
      ],
      "text/plain": [
       "   campaign_id  sender  subject_len  body_len  mean_paragraph_len  \\\n",
       "0            1       3           76     10439                  39   \n",
       "1            2       3           54      2570                 256   \n",
       "2            3       3           59     12801                  16   \n",
       "3            4       3           74     11037                  30   \n",
       "4            5       3           80     10011                  27   \n",
       "\n",
       "   day_of_week  is_weekend times_of_day  category  product  ...  is_image  \\\n",
       "0            5           1         Noon         6       26  ...         0   \n",
       "1            5           1      Morning         2       11  ...         0   \n",
       "2            5           1         Noon         2       11  ...         1   \n",
       "3            4           0      Evening        15        9  ...         0   \n",
       "4            5           1         Noon         6       26  ...         0   \n",
       "\n",
       "   is_personalised  is_quote  is_timer  is_emoticons  is_discount  is_price  \\\n",
       "0                0         0         0             0            0         0   \n",
       "1                0         0         0             0            0         0   \n",
       "2                0         1         0             0            0         0   \n",
       "3                0         0         0             0            0         0   \n",
       "4                0         1         0             0            0         0   \n",
       "\n",
       "   is_urgency  target_audience  click_rate  \n",
       "0           0               14    0.103079  \n",
       "1           0               10    0.700000  \n",
       "2           0               16    0.002769  \n",
       "3           0               10    0.010868  \n",
       "4           0               14    0.142826  \n",
       "\n",
       "[5 rows x 22 columns]"
      ]
     },
     "execution_count": 9,
     "metadata": {},
     "output_type": "execute_result"
    }
   ],
   "source": [
    "train_data.head()"
   ]
  },
  {
   "cell_type": "markdown",
   "id": "a463d0eb",
   "metadata": {
    "id": "a463d0eb"
   },
   "source": [
    "# Step 3: Label Encoding"
   ]
  },
  {
   "cell_type": "markdown",
   "id": "ba09af56",
   "metadata": {
    "id": "ba09af56"
   },
   "source": [
    "Label Encoding refers to converting the labels into a numeric form so as to convert them into the machine-readable form. Machine learning algorithms can then decide in a better way how those labels must be operated. It is an important pre-processing step for the structured dataset in supervised learning."
   ]
  },
  {
   "cell_type": "markdown",
   "id": "bccb669d",
   "metadata": {
    "id": "bccb669d"
   },
   "source": [
    "### We have a column times_of_day in dataset."
   ]
  },
  {
   "cell_type": "code",
   "execution_count": 10,
   "id": "4390a626",
   "metadata": {
    "colab": {
     "base_uri": "https://localhost:8080/"
    },
    "id": "4390a626",
    "outputId": "1b3a5e21-a70f-4f7d-fa31-8f0413233315"
   },
   "outputs": [
    {
     "data": {
      "text/plain": [
       "Evening    1317\n",
       "Noon        447\n",
       "Morning     124\n",
       "Name: times_of_day, dtype: int64"
      ]
     },
     "execution_count": 10,
     "metadata": {},
     "output_type": "execute_result"
    }
   ],
   "source": [
    "train_data[\"times_of_day\"].value_counts()##counting the values in train data"
   ]
  },
  {
   "cell_type": "code",
   "execution_count": 11,
   "id": "32f838d8",
   "metadata": {
    "colab": {
     "base_uri": "https://localhost:8080/"
    },
    "id": "32f838d8",
    "outputId": "9e1b2fed-2fe6-4ece-da7c-c2e9edd43efa"
   },
   "outputs": [
    {
     "data": {
      "text/plain": [
       "Evening    532\n",
       "Noon       175\n",
       "Morning     55\n",
       "Name: times_of_day, dtype: int64"
      ]
     },
     "execution_count": 11,
     "metadata": {},
     "output_type": "execute_result"
    }
   ],
   "source": [
    "test_data[\"times_of_day\"].value_counts()##counting the values in test data"
   ]
  },
  {
   "cell_type": "markdown",
   "id": "3aaa7392",
   "metadata": {
    "id": "3aaa7392"
   },
   "source": [
    "### After applying label encoding, the times_of_day column is converted into: "
   ]
  },
  {
   "cell_type": "code",
   "execution_count": 12,
   "id": "9248eb33",
   "metadata": {
    "id": "9248eb33"
   },
   "outputs": [],
   "source": [
    "train_data['times_of_day'].replace([\"Evening\",\"Noon\",\"Morning\"],[1,2,3],inplace=True)##replace values of time of day in train data"
   ]
  },
  {
   "cell_type": "code",
   "execution_count": 13,
   "id": "e3f6ffa4",
   "metadata": {
    "id": "e3f6ffa4"
   },
   "outputs": [],
   "source": [
    "test_data['times_of_day'].replace([\"Evening\",\"Noon\",\"Morning\"],[1,2,3],inplace=True)##replace values of time of day in train data"
   ]
  },
  {
   "cell_type": "markdown",
   "id": "e0b59280",
   "metadata": {
    "id": "e0b59280"
   },
   "source": [
    "### where 0 is the label for Evening, 1 is the label for Noon, and 2 is a label for Morning."
   ]
  },
  {
   "cell_type": "code",
   "execution_count": 14,
   "id": "0e5d70a0",
   "metadata": {
    "colab": {
     "base_uri": "https://localhost:8080/",
     "height": 299
    },
    "id": "0e5d70a0",
    "outputId": "1fe2a542-a8c8-40af-8b68-0703a44fb75d"
   },
   "outputs": [
    {
     "data": {
      "text/html": [
       "<div>\n",
       "<style scoped>\n",
       "    .dataframe tbody tr th:only-of-type {\n",
       "        vertical-align: middle;\n",
       "    }\n",
       "\n",
       "    .dataframe tbody tr th {\n",
       "        vertical-align: top;\n",
       "    }\n",
       "\n",
       "    .dataframe thead th {\n",
       "        text-align: right;\n",
       "    }\n",
       "</style>\n",
       "<table border=\"1\" class=\"dataframe\">\n",
       "  <thead>\n",
       "    <tr style=\"text-align: right;\">\n",
       "      <th></th>\n",
       "      <th>campaign_id</th>\n",
       "      <th>sender</th>\n",
       "      <th>subject_len</th>\n",
       "      <th>body_len</th>\n",
       "      <th>mean_paragraph_len</th>\n",
       "      <th>day_of_week</th>\n",
       "      <th>is_weekend</th>\n",
       "      <th>times_of_day</th>\n",
       "      <th>category</th>\n",
       "      <th>product</th>\n",
       "      <th>...</th>\n",
       "      <th>is_image</th>\n",
       "      <th>is_personalised</th>\n",
       "      <th>is_quote</th>\n",
       "      <th>is_timer</th>\n",
       "      <th>is_emoticons</th>\n",
       "      <th>is_discount</th>\n",
       "      <th>is_price</th>\n",
       "      <th>is_urgency</th>\n",
       "      <th>target_audience</th>\n",
       "      <th>click_rate</th>\n",
       "    </tr>\n",
       "  </thead>\n",
       "  <tbody>\n",
       "    <tr>\n",
       "      <th>0</th>\n",
       "      <td>1</td>\n",
       "      <td>3</td>\n",
       "      <td>76</td>\n",
       "      <td>10439</td>\n",
       "      <td>39</td>\n",
       "      <td>5</td>\n",
       "      <td>1</td>\n",
       "      <td>2</td>\n",
       "      <td>6</td>\n",
       "      <td>26</td>\n",
       "      <td>...</td>\n",
       "      <td>0</td>\n",
       "      <td>0</td>\n",
       "      <td>0</td>\n",
       "      <td>0</td>\n",
       "      <td>0</td>\n",
       "      <td>0</td>\n",
       "      <td>0</td>\n",
       "      <td>0</td>\n",
       "      <td>14</td>\n",
       "      <td>0.103079</td>\n",
       "    </tr>\n",
       "    <tr>\n",
       "      <th>1</th>\n",
       "      <td>2</td>\n",
       "      <td>3</td>\n",
       "      <td>54</td>\n",
       "      <td>2570</td>\n",
       "      <td>256</td>\n",
       "      <td>5</td>\n",
       "      <td>1</td>\n",
       "      <td>3</td>\n",
       "      <td>2</td>\n",
       "      <td>11</td>\n",
       "      <td>...</td>\n",
       "      <td>0</td>\n",
       "      <td>0</td>\n",
       "      <td>0</td>\n",
       "      <td>0</td>\n",
       "      <td>0</td>\n",
       "      <td>0</td>\n",
       "      <td>0</td>\n",
       "      <td>0</td>\n",
       "      <td>10</td>\n",
       "      <td>0.700000</td>\n",
       "    </tr>\n",
       "    <tr>\n",
       "      <th>2</th>\n",
       "      <td>3</td>\n",
       "      <td>3</td>\n",
       "      <td>59</td>\n",
       "      <td>12801</td>\n",
       "      <td>16</td>\n",
       "      <td>5</td>\n",
       "      <td>1</td>\n",
       "      <td>2</td>\n",
       "      <td>2</td>\n",
       "      <td>11</td>\n",
       "      <td>...</td>\n",
       "      <td>1</td>\n",
       "      <td>0</td>\n",
       "      <td>1</td>\n",
       "      <td>0</td>\n",
       "      <td>0</td>\n",
       "      <td>0</td>\n",
       "      <td>0</td>\n",
       "      <td>0</td>\n",
       "      <td>16</td>\n",
       "      <td>0.002769</td>\n",
       "    </tr>\n",
       "    <tr>\n",
       "      <th>3</th>\n",
       "      <td>4</td>\n",
       "      <td>3</td>\n",
       "      <td>74</td>\n",
       "      <td>11037</td>\n",
       "      <td>30</td>\n",
       "      <td>4</td>\n",
       "      <td>0</td>\n",
       "      <td>1</td>\n",
       "      <td>15</td>\n",
       "      <td>9</td>\n",
       "      <td>...</td>\n",
       "      <td>0</td>\n",
       "      <td>0</td>\n",
       "      <td>0</td>\n",
       "      <td>0</td>\n",
       "      <td>0</td>\n",
       "      <td>0</td>\n",
       "      <td>0</td>\n",
       "      <td>0</td>\n",
       "      <td>10</td>\n",
       "      <td>0.010868</td>\n",
       "    </tr>\n",
       "    <tr>\n",
       "      <th>4</th>\n",
       "      <td>5</td>\n",
       "      <td>3</td>\n",
       "      <td>80</td>\n",
       "      <td>10011</td>\n",
       "      <td>27</td>\n",
       "      <td>5</td>\n",
       "      <td>1</td>\n",
       "      <td>2</td>\n",
       "      <td>6</td>\n",
       "      <td>26</td>\n",
       "      <td>...</td>\n",
       "      <td>0</td>\n",
       "      <td>0</td>\n",
       "      <td>1</td>\n",
       "      <td>0</td>\n",
       "      <td>0</td>\n",
       "      <td>0</td>\n",
       "      <td>0</td>\n",
       "      <td>0</td>\n",
       "      <td>14</td>\n",
       "      <td>0.142826</td>\n",
       "    </tr>\n",
       "  </tbody>\n",
       "</table>\n",
       "<p>5 rows × 22 columns</p>\n",
       "</div>"
      ],
      "text/plain": [
       "   campaign_id  sender  subject_len  body_len  mean_paragraph_len  \\\n",
       "0            1       3           76     10439                  39   \n",
       "1            2       3           54      2570                 256   \n",
       "2            3       3           59     12801                  16   \n",
       "3            4       3           74     11037                  30   \n",
       "4            5       3           80     10011                  27   \n",
       "\n",
       "   day_of_week  is_weekend  times_of_day  category  product  ...  is_image  \\\n",
       "0            5           1             2         6       26  ...         0   \n",
       "1            5           1             3         2       11  ...         0   \n",
       "2            5           1             2         2       11  ...         1   \n",
       "3            4           0             1        15        9  ...         0   \n",
       "4            5           1             2         6       26  ...         0   \n",
       "\n",
       "   is_personalised  is_quote  is_timer  is_emoticons  is_discount  is_price  \\\n",
       "0                0         0         0             0            0         0   \n",
       "1                0         0         0             0            0         0   \n",
       "2                0         1         0             0            0         0   \n",
       "3                0         0         0             0            0         0   \n",
       "4                0         1         0             0            0         0   \n",
       "\n",
       "   is_urgency  target_audience  click_rate  \n",
       "0           0               14    0.103079  \n",
       "1           0               10    0.700000  \n",
       "2           0               16    0.002769  \n",
       "3           0               10    0.010868  \n",
       "4           0               14    0.142826  \n",
       "\n",
       "[5 rows x 22 columns]"
      ]
     },
     "execution_count": 14,
     "metadata": {},
     "output_type": "execute_result"
    }
   ],
   "source": [
    "train_data.head()"
   ]
  },
  {
   "cell_type": "code",
   "execution_count": 15,
   "id": "8acd98b3",
   "metadata": {
    "colab": {
     "base_uri": "https://localhost:8080/",
     "height": 299
    },
    "id": "8acd98b3",
    "outputId": "3063c91f-2260-4d3e-c78b-1e830026dd0c"
   },
   "outputs": [
    {
     "data": {
      "text/html": [
       "<div>\n",
       "<style scoped>\n",
       "    .dataframe tbody tr th:only-of-type {\n",
       "        vertical-align: middle;\n",
       "    }\n",
       "\n",
       "    .dataframe tbody tr th {\n",
       "        vertical-align: top;\n",
       "    }\n",
       "\n",
       "    .dataframe thead th {\n",
       "        text-align: right;\n",
       "    }\n",
       "</style>\n",
       "<table border=\"1\" class=\"dataframe\">\n",
       "  <thead>\n",
       "    <tr style=\"text-align: right;\">\n",
       "      <th></th>\n",
       "      <th>campaign_id</th>\n",
       "      <th>sender</th>\n",
       "      <th>subject_len</th>\n",
       "      <th>body_len</th>\n",
       "      <th>mean_paragraph_len</th>\n",
       "      <th>day_of_week</th>\n",
       "      <th>is_weekend</th>\n",
       "      <th>times_of_day</th>\n",
       "      <th>category</th>\n",
       "      <th>product</th>\n",
       "      <th>...</th>\n",
       "      <th>mean_CTA_len</th>\n",
       "      <th>is_image</th>\n",
       "      <th>is_personalised</th>\n",
       "      <th>is_quote</th>\n",
       "      <th>is_timer</th>\n",
       "      <th>is_emoticons</th>\n",
       "      <th>is_discount</th>\n",
       "      <th>is_price</th>\n",
       "      <th>is_urgency</th>\n",
       "      <th>target_audience</th>\n",
       "    </tr>\n",
       "  </thead>\n",
       "  <tbody>\n",
       "    <tr>\n",
       "      <th>0</th>\n",
       "      <td>1889</td>\n",
       "      <td>3</td>\n",
       "      <td>61</td>\n",
       "      <td>12871</td>\n",
       "      <td>11</td>\n",
       "      <td>6</td>\n",
       "      <td>1</td>\n",
       "      <td>2</td>\n",
       "      <td>6</td>\n",
       "      <td>26</td>\n",
       "      <td>...</td>\n",
       "      <td>37</td>\n",
       "      <td>1</td>\n",
       "      <td>0</td>\n",
       "      <td>0</td>\n",
       "      <td>0</td>\n",
       "      <td>1</td>\n",
       "      <td>0</td>\n",
       "      <td>0</td>\n",
       "      <td>0</td>\n",
       "      <td>14</td>\n",
       "    </tr>\n",
       "    <tr>\n",
       "      <th>1</th>\n",
       "      <td>1890</td>\n",
       "      <td>3</td>\n",
       "      <td>54</td>\n",
       "      <td>2569</td>\n",
       "      <td>256</td>\n",
       "      <td>5</td>\n",
       "      <td>1</td>\n",
       "      <td>3</td>\n",
       "      <td>2</td>\n",
       "      <td>11</td>\n",
       "      <td>...</td>\n",
       "      <td>22</td>\n",
       "      <td>0</td>\n",
       "      <td>0</td>\n",
       "      <td>0</td>\n",
       "      <td>0</td>\n",
       "      <td>0</td>\n",
       "      <td>0</td>\n",
       "      <td>0</td>\n",
       "      <td>0</td>\n",
       "      <td>10</td>\n",
       "    </tr>\n",
       "    <tr>\n",
       "      <th>2</th>\n",
       "      <td>1891</td>\n",
       "      <td>3</td>\n",
       "      <td>88</td>\n",
       "      <td>1473</td>\n",
       "      <td>78</td>\n",
       "      <td>4</td>\n",
       "      <td>0</td>\n",
       "      <td>1</td>\n",
       "      <td>2</td>\n",
       "      <td>11</td>\n",
       "      <td>...</td>\n",
       "      <td>22</td>\n",
       "      <td>1</td>\n",
       "      <td>0</td>\n",
       "      <td>1</td>\n",
       "      <td>0</td>\n",
       "      <td>0</td>\n",
       "      <td>0</td>\n",
       "      <td>0</td>\n",
       "      <td>0</td>\n",
       "      <td>10</td>\n",
       "    </tr>\n",
       "    <tr>\n",
       "      <th>3</th>\n",
       "      <td>1892</td>\n",
       "      <td>3</td>\n",
       "      <td>88</td>\n",
       "      <td>1473</td>\n",
       "      <td>78</td>\n",
       "      <td>3</td>\n",
       "      <td>0</td>\n",
       "      <td>1</td>\n",
       "      <td>2</td>\n",
       "      <td>11</td>\n",
       "      <td>...</td>\n",
       "      <td>22</td>\n",
       "      <td>1</td>\n",
       "      <td>0</td>\n",
       "      <td>1</td>\n",
       "      <td>0</td>\n",
       "      <td>0</td>\n",
       "      <td>0</td>\n",
       "      <td>0</td>\n",
       "      <td>0</td>\n",
       "      <td>10</td>\n",
       "    </tr>\n",
       "    <tr>\n",
       "      <th>4</th>\n",
       "      <td>1893</td>\n",
       "      <td>3</td>\n",
       "      <td>78</td>\n",
       "      <td>9020</td>\n",
       "      <td>29</td>\n",
       "      <td>3</td>\n",
       "      <td>0</td>\n",
       "      <td>2</td>\n",
       "      <td>6</td>\n",
       "      <td>26</td>\n",
       "      <td>...</td>\n",
       "      <td>40</td>\n",
       "      <td>0</td>\n",
       "      <td>0</td>\n",
       "      <td>0</td>\n",
       "      <td>0</td>\n",
       "      <td>0</td>\n",
       "      <td>0</td>\n",
       "      <td>0</td>\n",
       "      <td>0</td>\n",
       "      <td>14</td>\n",
       "    </tr>\n",
       "  </tbody>\n",
       "</table>\n",
       "<p>5 rows × 21 columns</p>\n",
       "</div>"
      ],
      "text/plain": [
       "   campaign_id  sender  subject_len  body_len  mean_paragraph_len  \\\n",
       "0         1889       3           61     12871                  11   \n",
       "1         1890       3           54      2569                 256   \n",
       "2         1891       3           88      1473                  78   \n",
       "3         1892       3           88      1473                  78   \n",
       "4         1893       3           78      9020                  29   \n",
       "\n",
       "   day_of_week  is_weekend  times_of_day  category  product  ...  \\\n",
       "0            6           1             2         6       26  ...   \n",
       "1            5           1             3         2       11  ...   \n",
       "2            4           0             1         2       11  ...   \n",
       "3            3           0             1         2       11  ...   \n",
       "4            3           0             2         6       26  ...   \n",
       "\n",
       "   mean_CTA_len  is_image  is_personalised  is_quote  is_timer  is_emoticons  \\\n",
       "0            37         1                0         0         0             1   \n",
       "1            22         0                0         0         0             0   \n",
       "2            22         1                0         1         0             0   \n",
       "3            22         1                0         1         0             0   \n",
       "4            40         0                0         0         0             0   \n",
       "\n",
       "   is_discount  is_price  is_urgency  target_audience  \n",
       "0            0         0           0               14  \n",
       "1            0         0           0               10  \n",
       "2            0         0           0               10  \n",
       "3            0         0           0               10  \n",
       "4            0         0           0               14  \n",
       "\n",
       "[5 rows x 21 columns]"
      ]
     },
     "execution_count": 15,
     "metadata": {},
     "output_type": "execute_result"
    }
   ],
   "source": [
    "test_data.head()"
   ]
  },
  {
   "cell_type": "markdown",
   "id": "14e30b44",
   "metadata": {
    "id": "14e30b44"
   },
   "source": [
    "# Step 4: Exploratory data analysis (EDA)"
   ]
  },
  {
   "cell_type": "markdown",
   "id": "4b0bbaa5",
   "metadata": {
    "id": "4b0bbaa5"
   },
   "source": [
    "The purpose of this EDA is to find insights which will serve us later in another notebook for Data cleaning/preparation/transformation which will ultimately be used into a machine learning algorithm. We will proceed as follow:"
   ]
  },
  {
   "cell_type": "markdown",
   "id": "b91f4078",
   "metadata": {
    "id": "b91f4078"
   },
   "source": [
    "<img src=\"http://sharpsightlabs.com/wp-content/uploads/2016/05/1_data-analysis-for-ML_how-we-use-dataAnalysis_2016-05-16.png\" width= \"800\">"
   ]
  },
  {
   "cell_type": "markdown",
   "id": "ac61e7cc",
   "metadata": {
    "id": "ac61e7cc"
   },
   "source": [
    "Source"
   ]
  },
  {
   "cell_type": "markdown",
   "id": "c053eda9",
   "metadata": {
    "id": "c053eda9"
   },
   "source": [
    "Where each steps (Data exploration, Data cleaning, Model building, Presenting results) will belongs to 1 notebook. I will write down a lot of details in this notebook (even some which may seems obvious by nature), as a beginner it's important for me to do so."
   ]
  },
  {
   "cell_type": "code",
   "execution_count": 16,
   "id": "4b104b17",
   "metadata": {
    "id": "4b104b17",
    "outputId": "f51919d7-4d86-4970-ae1b-d7de5b77757b"
   },
   "outputs": [
    {
     "data": {
      "text/html": [
       "<div>\n",
       "<style scoped>\n",
       "    .dataframe tbody tr th:only-of-type {\n",
       "        vertical-align: middle;\n",
       "    }\n",
       "\n",
       "    .dataframe tbody tr th {\n",
       "        vertical-align: top;\n",
       "    }\n",
       "\n",
       "    .dataframe thead th {\n",
       "        text-align: right;\n",
       "    }\n",
       "</style>\n",
       "<table border=\"1\" class=\"dataframe\">\n",
       "  <thead>\n",
       "    <tr style=\"text-align: right;\">\n",
       "      <th></th>\n",
       "      <th>campaign_id</th>\n",
       "      <th>sender</th>\n",
       "      <th>subject_len</th>\n",
       "      <th>body_len</th>\n",
       "      <th>mean_paragraph_len</th>\n",
       "      <th>day_of_week</th>\n",
       "      <th>is_weekend</th>\n",
       "      <th>times_of_day</th>\n",
       "      <th>category</th>\n",
       "      <th>product</th>\n",
       "      <th>...</th>\n",
       "      <th>is_image</th>\n",
       "      <th>is_personalised</th>\n",
       "      <th>is_quote</th>\n",
       "      <th>is_timer</th>\n",
       "      <th>is_emoticons</th>\n",
       "      <th>is_discount</th>\n",
       "      <th>is_price</th>\n",
       "      <th>is_urgency</th>\n",
       "      <th>target_audience</th>\n",
       "      <th>click_rate</th>\n",
       "    </tr>\n",
       "  </thead>\n",
       "  <tbody>\n",
       "    <tr>\n",
       "      <th>0</th>\n",
       "      <td>1</td>\n",
       "      <td>3</td>\n",
       "      <td>76</td>\n",
       "      <td>10439</td>\n",
       "      <td>39</td>\n",
       "      <td>5</td>\n",
       "      <td>1</td>\n",
       "      <td>2</td>\n",
       "      <td>6</td>\n",
       "      <td>26</td>\n",
       "      <td>...</td>\n",
       "      <td>0</td>\n",
       "      <td>0</td>\n",
       "      <td>0</td>\n",
       "      <td>0</td>\n",
       "      <td>0</td>\n",
       "      <td>0</td>\n",
       "      <td>0</td>\n",
       "      <td>0</td>\n",
       "      <td>14</td>\n",
       "      <td>0.103079</td>\n",
       "    </tr>\n",
       "    <tr>\n",
       "      <th>1</th>\n",
       "      <td>2</td>\n",
       "      <td>3</td>\n",
       "      <td>54</td>\n",
       "      <td>2570</td>\n",
       "      <td>256</td>\n",
       "      <td>5</td>\n",
       "      <td>1</td>\n",
       "      <td>3</td>\n",
       "      <td>2</td>\n",
       "      <td>11</td>\n",
       "      <td>...</td>\n",
       "      <td>0</td>\n",
       "      <td>0</td>\n",
       "      <td>0</td>\n",
       "      <td>0</td>\n",
       "      <td>0</td>\n",
       "      <td>0</td>\n",
       "      <td>0</td>\n",
       "      <td>0</td>\n",
       "      <td>10</td>\n",
       "      <td>0.700000</td>\n",
       "    </tr>\n",
       "    <tr>\n",
       "      <th>2</th>\n",
       "      <td>3</td>\n",
       "      <td>3</td>\n",
       "      <td>59</td>\n",
       "      <td>12801</td>\n",
       "      <td>16</td>\n",
       "      <td>5</td>\n",
       "      <td>1</td>\n",
       "      <td>2</td>\n",
       "      <td>2</td>\n",
       "      <td>11</td>\n",
       "      <td>...</td>\n",
       "      <td>1</td>\n",
       "      <td>0</td>\n",
       "      <td>1</td>\n",
       "      <td>0</td>\n",
       "      <td>0</td>\n",
       "      <td>0</td>\n",
       "      <td>0</td>\n",
       "      <td>0</td>\n",
       "      <td>16</td>\n",
       "      <td>0.002769</td>\n",
       "    </tr>\n",
       "    <tr>\n",
       "      <th>3</th>\n",
       "      <td>4</td>\n",
       "      <td>3</td>\n",
       "      <td>74</td>\n",
       "      <td>11037</td>\n",
       "      <td>30</td>\n",
       "      <td>4</td>\n",
       "      <td>0</td>\n",
       "      <td>1</td>\n",
       "      <td>15</td>\n",
       "      <td>9</td>\n",
       "      <td>...</td>\n",
       "      <td>0</td>\n",
       "      <td>0</td>\n",
       "      <td>0</td>\n",
       "      <td>0</td>\n",
       "      <td>0</td>\n",
       "      <td>0</td>\n",
       "      <td>0</td>\n",
       "      <td>0</td>\n",
       "      <td>10</td>\n",
       "      <td>0.010868</td>\n",
       "    </tr>\n",
       "    <tr>\n",
       "      <th>4</th>\n",
       "      <td>5</td>\n",
       "      <td>3</td>\n",
       "      <td>80</td>\n",
       "      <td>10011</td>\n",
       "      <td>27</td>\n",
       "      <td>5</td>\n",
       "      <td>1</td>\n",
       "      <td>2</td>\n",
       "      <td>6</td>\n",
       "      <td>26</td>\n",
       "      <td>...</td>\n",
       "      <td>0</td>\n",
       "      <td>0</td>\n",
       "      <td>1</td>\n",
       "      <td>0</td>\n",
       "      <td>0</td>\n",
       "      <td>0</td>\n",
       "      <td>0</td>\n",
       "      <td>0</td>\n",
       "      <td>14</td>\n",
       "      <td>0.142826</td>\n",
       "    </tr>\n",
       "  </tbody>\n",
       "</table>\n",
       "<p>5 rows × 22 columns</p>\n",
       "</div>"
      ],
      "text/plain": [
       "   campaign_id  sender  subject_len  body_len  mean_paragraph_len  \\\n",
       "0            1       3           76     10439                  39   \n",
       "1            2       3           54      2570                 256   \n",
       "2            3       3           59     12801                  16   \n",
       "3            4       3           74     11037                  30   \n",
       "4            5       3           80     10011                  27   \n",
       "\n",
       "   day_of_week  is_weekend  times_of_day  category  product  ...  is_image  \\\n",
       "0            5           1             2         6       26  ...         0   \n",
       "1            5           1             3         2       11  ...         0   \n",
       "2            5           1             2         2       11  ...         1   \n",
       "3            4           0             1        15        9  ...         0   \n",
       "4            5           1             2         6       26  ...         0   \n",
       "\n",
       "   is_personalised  is_quote  is_timer  is_emoticons  is_discount  is_price  \\\n",
       "0                0         0         0             0            0         0   \n",
       "1                0         0         0             0            0         0   \n",
       "2                0         1         0             0            0         0   \n",
       "3                0         0         0             0            0         0   \n",
       "4                0         1         0             0            0         0   \n",
       "\n",
       "   is_urgency  target_audience  click_rate  \n",
       "0           0               14    0.103079  \n",
       "1           0               10    0.700000  \n",
       "2           0               16    0.002769  \n",
       "3           0               10    0.010868  \n",
       "4           0               14    0.142826  \n",
       "\n",
       "[5 rows x 22 columns]"
      ]
     },
     "execution_count": 16,
     "metadata": {},
     "output_type": "execute_result"
    }
   ],
   "source": [
    "train_data.head()"
   ]
  },
  {
   "cell_type": "code",
   "execution_count": 17,
   "id": "50eef3e9",
   "metadata": {
    "id": "50eef3e9",
    "outputId": "d9ffa9ea-6cad-4d54-8f9b-5b47576d3eb8"
   },
   "outputs": [
    {
     "data": {
      "text/plain": [
       "Index(['campaign_id', 'sender', 'subject_len', 'body_len',\n",
       "       'mean_paragraph_len', 'day_of_week', 'is_weekend', 'times_of_day',\n",
       "       'category', 'product', 'no_of_CTA', 'mean_CTA_len', 'is_image',\n",
       "       'is_personalised', 'is_quote', 'is_timer', 'is_emoticons',\n",
       "       'is_discount', 'is_price', 'is_urgency', 'target_audience',\n",
       "       'click_rate'],\n",
       "      dtype='object')"
      ]
     },
     "execution_count": 17,
     "metadata": {},
     "output_type": "execute_result"
    }
   ],
   "source": [
    "train_data.columns## check index names"
   ]
  },
  {
   "cell_type": "code",
   "execution_count": 18,
   "id": "12d7310c",
   "metadata": {
    "id": "12d7310c",
    "outputId": "c2d4f983-61f0-478e-e86e-066ce5def18b"
   },
   "outputs": [
    {
     "name": "stdout",
     "output_type": "stream",
     "text": [
      "<class 'pandas.core.frame.DataFrame'>\n",
      "RangeIndex: 1888 entries, 0 to 1887\n",
      "Data columns (total 22 columns):\n",
      " #   Column              Non-Null Count  Dtype  \n",
      "---  ------              --------------  -----  \n",
      " 0   campaign_id         1888 non-null   int64  \n",
      " 1   sender              1888 non-null   int64  \n",
      " 2   subject_len         1888 non-null   int64  \n",
      " 3   body_len            1888 non-null   int64  \n",
      " 4   mean_paragraph_len  1888 non-null   int64  \n",
      " 5   day_of_week         1888 non-null   int64  \n",
      " 6   is_weekend          1888 non-null   int64  \n",
      " 7   times_of_day        1888 non-null   int64  \n",
      " 8   category            1888 non-null   int64  \n",
      " 9   product             1888 non-null   int64  \n",
      " 10  no_of_CTA           1888 non-null   int64  \n",
      " 11  mean_CTA_len        1888 non-null   int64  \n",
      " 12  is_image            1888 non-null   int64  \n",
      " 13  is_personalised     1888 non-null   int64  \n",
      " 14  is_quote            1888 non-null   int64  \n",
      " 15  is_timer            1888 non-null   int64  \n",
      " 16  is_emoticons        1888 non-null   int64  \n",
      " 17  is_discount         1888 non-null   int64  \n",
      " 18  is_price            1888 non-null   int64  \n",
      " 19  is_urgency          1888 non-null   int64  \n",
      " 20  target_audience     1888 non-null   int64  \n",
      " 21  click_rate          1888 non-null   float64\n",
      "dtypes: float64(1), int64(21)\n",
      "memory usage: 324.6 KB\n"
     ]
    }
   ],
   "source": [
    "train_data.info()## check information of data"
   ]
  },
  {
   "cell_type": "code",
   "execution_count": 218,
   "id": "eb739e86",
   "metadata": {},
   "outputs": [
    {
     "data": {
      "text/plain": [
       "Text(0.5, 0, 'Subject Length')"
      ]
     },
     "execution_count": 218,
     "metadata": {},
     "output_type": "execute_result"
    },
    {
     "data": {
      "image/png": "[encoded data removed]",
      "text/plain": [
       "<Figure size 1296x1152 with 1 Axes>"
      ]
     },
     "metadata": {
      "needs_background": "light"
     },
     "output_type": "display_data"
    }
   ],
   "source": [
    "x = train_data[\"subject_len\"].head(70)\n",
    "y = train_data[\"click_rate\"]\n",
    "plt.figure(figsize=(18,16))\n",
    "sns.barplot(x,y)\n",
    "plt.ylabel(\"Click Rate\")\n",
    "plt.xlabel(\"Subject Length\")"
   ]
  },
  {
   "cell_type": "markdown",
   "id": "735205a3",
   "metadata": {},
   "source": [
    "__Above bar graph shows that if the length of subject will be 54 to 57 and 78 then the click rate will be high.__"
   ]
  },
  {
   "cell_type": "code",
   "execution_count": 223,
   "id": "1737ce51",
   "metadata": {},
   "outputs": [
    {
     "data": {
      "text/plain": [
       "Text(0.5, 0, 'Body Length')"
      ]
     },
     "execution_count": 223,
     "metadata": {},
     "output_type": "execute_result"
    },
    {
     "data": {
      "image/png": "[encoded data removed]",
      "text/plain": [
       "<Figure size 1296x1152 with 1 Axes>"
      ]
     },
     "metadata": {
      "needs_background": "light"
     },
     "output_type": "display_data"
    }
   ],
   "source": [
    "x_bod_len = train_data[\"body_len\"].head(50)\n",
    "y = train_data[\"click_rate\"]\n",
    "plt.figure(figsize=(18,16))\n",
    "sns.barplot(x_bod_len,y)\n",
    "plt.ylabel(\"Click Rate\")\n",
    "plt.xlabel(\"Body Length\")"
   ]
  },
  {
   "cell_type": "markdown",
   "id": "17cd5ddb",
   "metadata": {},
   "source": [
    "__Above bar graph shows that if the length of body will be 2569 to 2570 and 7768 then the click rate will be high.__"
   ]
  },
  {
   "cell_type": "code",
   "execution_count": 226,
   "id": "98c644b4",
   "metadata": {},
   "outputs": [
    {
     "data": {
      "text/plain": [
       "Text(0.5, 0, 'Number Of Image')"
      ]
     },
     "execution_count": 226,
     "metadata": {},
     "output_type": "execute_result"
    },
    {
     "data": {
      "image/png": "[encoded data removed]",
      "text/plain": [
       "<Figure size 1296x1152 with 1 Axes>"
      ]
     },
     "metadata": {
      "needs_background": "light"
     },
     "output_type": "display_data"
    }
   ],
   "source": [
    "x_image = train_data[\"is_image\"]\n",
    "y = train_data[\"click_rate\"]\n",
    "plt.figure(figsize=(18,16))\n",
    "sns.barplot(x_image,y)\n",
    "plt.ylabel(\"Click Rate\")\n",
    "plt.xlabel(\"Number Of Image\")"
   ]
  },
  {
   "cell_type": "markdown",
   "id": "327479cd",
   "metadata": {},
   "source": [
    "__Above bar graph shows that if the number of image will be 0, 3 and 6 then the click rate will be high.__"
   ]
  },
  {
   "cell_type": "markdown",
   "id": "25783c4d",
   "metadata": {
    "id": "25783c4d"
   },
   "source": [
    "Now lets take a look at how the click rate is distributed"
   ]
  },
  {
   "cell_type": "code",
   "execution_count": 19,
   "id": "b47c1677",
   "metadata": {
    "id": "b47c1677",
    "outputId": "d6a1f0d0-64c8-4031-f06d-99b786b0cea4"
   },
   "outputs": [
    {
     "name": "stdout",
     "output_type": "stream",
     "text": [
      "count    1888.000000\n",
      "mean        0.041888\n",
      "std         0.084223\n",
      "min         0.000000\n",
      "25%         0.005413\n",
      "50%         0.010686\n",
      "75%         0.035589\n",
      "max         0.897959\n",
      "Name: click_rate, dtype: float64\n"
     ]
    },
    {
     "data": {
      "image/png": "[encoded data removed]",
      "text/plain": [
       "<Figure size 648x576 with 1 Axes>"
      ]
     },
     "metadata": {
      "needs_background": "light"
     },
     "output_type": "display_data"
    }
   ],
   "source": [
    "print(train_data['click_rate'].describe())\n",
    "plt.figure(figsize=(9, 8))\n",
    "sns.distplot(train_data['click_rate'], color='g', bins=100, hist_kws={'alpha': 0.4});"
   ]
  },
  {
   "cell_type": "markdown",
   "id": "52145e41",
   "metadata": {
    "id": "52145e41"
   },
   "source": [
    "With this information we can see that the click rate are skewed right and some outliers lies above ~0.2. We will eventually want to get rid of the them to get a normal distribution of the independent variable (`click rate`) for machine learning."
   ]
  },
  {
   "cell_type": "markdown",
   "id": "2fc4c1f3",
   "metadata": {
    "id": "2fc4c1f3"
   },
   "source": [
    "# Numerical data distribution"
   ]
  },
  {
   "cell_type": "markdown",
   "id": "5bc181f5",
   "metadata": {
    "id": "5bc181f5"
   },
   "source": [
    "For this part lets look at the distribution of all of the features by ploting them\n",
    "\n",
    "                Now lets plot them all:"
   ]
  },
  {
   "cell_type": "code",
   "execution_count": 20,
   "id": "11c88d36",
   "metadata": {
    "id": "11c88d36",
    "outputId": "dbfd3846-a2a4-4b5e-da76-c6a88c26e753"
   },
   "outputs": [
    {
     "data": {
      "image/png": "[encoded data removed]",
      "text/plain": [
       "<Figure size 1152x1440 with 25 Axes>"
      ]
     },
     "metadata": {
      "needs_background": "light"
     },
     "output_type": "display_data"
    }
   ],
   "source": [
    "train_data.hist(figsize=(16, 20), bins=50, xlabelsize=8, ylabelsize=8); # ; avoid having the matplotlib verbose informations"
   ]
  },
  {
   "cell_type": "markdown",
   "id": "2352628a",
   "metadata": {
    "id": "2352628a"
   },
   "source": [
    "Features such as `subject_len`, `body_len`, `mean_paragraph_len`, `no_of_CTA`,`mean_CTA_len`... seems to share a similar distribution to the one we have with `click_rate`. Lets see if we can find new clues later."
   ]
  },
  {
   "cell_type": "markdown",
   "id": "b7ed5d1b",
   "metadata": {
    "id": "b7ed5d1b"
   },
   "source": [
    "# Correlation"
   ]
  },
  {
   "cell_type": "markdown",
   "id": "97b1878c",
   "metadata": {
    "id": "97b1878c"
   },
   "source": [
    "Now we'll try to find which features are strongly correlated with click_rate. We'll store them in a var called golden_features_list. We'll reuse our train_data dataset to do so."
   ]
  },
  {
   "cell_type": "code",
   "execution_count": 21,
   "id": "676bcb0c",
   "metadata": {
    "id": "676bcb0c",
    "outputId": "b775069a-01fe-47ff-8e52-47882e9f16e2"
   },
   "outputs": [
    {
     "name": "stdout",
     "output_type": "stream",
     "text": [
      "There is 14 strongly correlated values with click_rate:\n",
      "mean_paragraph_len    0.178042\n",
      "times_of_day          0.161946\n",
      "product               0.121602\n",
      "is_weekend            0.114138\n",
      "day_of_week           0.086372\n",
      "campaign_id           0.053315\n",
      "is_discount          -0.086105\n",
      "is_emoticons         -0.094305\n",
      "is_quote             -0.098402\n",
      "is_urgency           -0.114284\n",
      "category             -0.167756\n",
      "no_of_CTA            -0.172637\n",
      "subject_len          -0.180143\n",
      "body_len             -0.247866\n",
      "Name: click_rate, dtype: float64\n"
     ]
    }
   ],
   "source": [
    "train_data_corr = train_data.corr()['click_rate'][:-1] # -1 because the latest row is click_rate\n",
    "golden_features_list = train_data_corr[abs(train_data_corr) > 0.05].sort_values(ascending=False)\n",
    "print(\"There is {} strongly correlated values with click_rate:\\n{}\".format(len(golden_features_list), golden_features_list))"
   ]
  },
  {
   "cell_type": "markdown",
   "id": "6b1df19b",
   "metadata": {
    "id": "6b1df19b"
   },
   "source": [
    "Perfect, we now have a list of strongly correlated values but this list is incomplete as we know that correlation is affected by outliers. So we could proceed as follow:\n",
    "\n",
    "      1. Plot the numerical features and see which ones have very few or explainable outliers\n",
    "      \n",
    "      2. Remove the outliers from these features and see which one can have a good correlation without their outliers\n",
    "      \n",
    "Btw, correlation by itself does not always explain the relationship between data so ploting them could even lead us to new insights and in the same manner, check that our correlated values have a linear relationship to the click_rate.\n",
    "\n",
    "For example, relationships such as curvilinear relationship cannot be guessed just by looking at the correlation value so lets take the features we excluded from our correlation table and plot them to see if they show some kind of pattern."
   ]
  },
  {
   "cell_type": "code",
   "execution_count": 22,
   "id": "ef5eb18b",
   "metadata": {
    "id": "ef5eb18b",
    "outputId": "06be229c-aeb2-47bc-e7cd-8d8a828b76c4"
   },
   "outputs": [
    {
     "data": {
      "image/png": "[encoded data removed]",
      "text/plain": [
       "<Figure size 900x180 with 5 Axes>"
      ]
     },
     "metadata": {
      "needs_background": "light"
     },
     "output_type": "display_data"
    },
    {
     "data": {
      "image/png": "[encoded data removed]",
      "text/plain": [
       "<Figure size 900x180 with 5 Axes>"
      ]
     },
     "metadata": {
      "needs_background": "light"
     },
     "output_type": "display_data"
    },
    {
     "data": {
      "image/png": "[encoded data removed]",
      "text/plain": [
       "<Figure size 900x180 with 5 Axes>"
      ]
     },
     "metadata": {
      "needs_background": "light"
     },
     "output_type": "display_data"
    },
    {
     "data": {
      "image/png": "[encoded data removed]",
      "text/plain": [
       "<Figure size 900x180 with 5 Axes>"
      ]
     },
     "metadata": {
      "needs_background": "light"
     },
     "output_type": "display_data"
    },
    {
     "data": {
      "image/png": "[encoded data removed]",
      "text/plain": [
       "<Figure size 360x180 with 3 Axes>"
      ]
     },
     "metadata": {
      "needs_background": "light"
     },
     "output_type": "display_data"
    }
   ],
   "source": [
    "for i in range(0, len(train_data.columns), 5):\n",
    "    sns.pairplot(data=train_data,\n",
    "                x_vars=train_data.columns[i:i+5],\n",
    "                y_vars=['click_rate'])"
   ]
  },
  {
   "cell_type": "markdown",
   "id": "e68d7935",
   "metadata": {
    "id": "e68d7935"
   },
   "source": [
    "We can clearly identify some relationships. Most of them seems to have a same relationship with the click_rate."
   ]
  },
  {
   "cell_type": "markdown",
   "id": "3f7cd975",
   "metadata": {
    "id": "3f7cd975"
   },
   "source": [
    "# Conclusion"
   ]
  },
  {
   "cell_type": "markdown",
   "id": "21d93144",
   "metadata": {
    "id": "21d93144"
   },
   "source": [
    "By looking at correlation between numerical values we discovered 15 features which have a strong relationship to a click_rate. Besides correlation we didn't find any notable pattern on the datas which are not correlated."
   ]
  },
  {
   "cell_type": "markdown",
   "id": "d633978c",
   "metadata": {
    "id": "d633978c"
   },
   "source": [
    "# Feature to feature relationship"
   ]
  },
  {
   "cell_type": "markdown",
   "id": "4b429ad2",
   "metadata": {
    "id": "4b429ad2"
   },
   "source": [
    "Trying to plot all the numerical features in a seaborn pairplot will take us too much time and will be hard to interpret. We can try to see if some variables are linked between each other and then explain their relation with common sense."
   ]
  },
  {
   "cell_type": "code",
   "execution_count": 23,
   "id": "ee66726a",
   "metadata": {
    "id": "ee66726a",
    "outputId": "d481323c-85fb-4d64-b82d-be423590a870"
   },
   "outputs": [
    {
     "data": {
      "image/png": "[encoded data removed]",
      "text/plain": [
       "<Figure size 864x720 with 2 Axes>"
      ]
     },
     "metadata": {
      "needs_background": "light"
     },
     "output_type": "display_data"
    }
   ],
   "source": [
    "corr = train_data.drop('click_rate', axis=1).corr() # We already examined click_rate correlations\n",
    "plt.figure(figsize=(12, 10))\n",
    "\n",
    "sns.heatmap(corr[(corr >= 0.05) | (corr <= -0.03)], \n",
    "            cmap='viridis', vmax=1.0, vmin=-1.0, linewidths=0.1,\n",
    "            annot=True, annot_kws={\"size\": 8}, square=True);"
   ]
  },
  {
   "cell_type": "markdown",
   "id": "706d4664",
   "metadata": {
    "id": "706d4664"
   },
   "source": [
    "A lot of features seems to be correlated between each other.\n",
    "\n",
    "There is of course a lot more to discover but I can't really explain the rest of the features except the most obvious ones."
   ]
  },
  {
   "cell_type": "markdown",
   "id": "5e739787",
   "metadata": {
    "id": "5e739787"
   },
   "source": [
    "#### We can conclude that, by essence, some of those features may be combined between each other or drop in order to reduce the number of features "
   ]
  },
  {
   "cell_type": "markdown",
   "id": "ec39bfe3",
   "metadata": {
    "id": "ec39bfe3"
   },
   "source": [
    "# Q -> Q (Quantitative to Quantitative relationship)"
   ]
  },
  {
   "cell_type": "markdown",
   "id": "478b49f6",
   "metadata": {
    "id": "478b49f6"
   },
   "source": [
    "Let's now examine the quantitative features of our dataframe and how they relate to the click_rate which is also quantitative (hence the relation Q -> Q). I will conduct this analysis with the help of the Q -> Q chapter of the Standford MOOC"
   ]
  },
  {
   "cell_type": "code",
   "execution_count": 24,
   "id": "e3b734a2",
   "metadata": {
    "id": "e3b734a2",
    "outputId": "5dfdff18-063f-44b6-8c05-bace5a8dec54"
   },
   "outputs": [
    {
     "data": {
      "text/html": [
       "<div>\n",
       "<style scoped>\n",
       "    .dataframe tbody tr th:only-of-type {\n",
       "        vertical-align: middle;\n",
       "    }\n",
       "\n",
       "    .dataframe tbody tr th {\n",
       "        vertical-align: top;\n",
       "    }\n",
       "\n",
       "    .dataframe thead th {\n",
       "        text-align: right;\n",
       "    }\n",
       "</style>\n",
       "<table border=\"1\" class=\"dataframe\">\n",
       "  <thead>\n",
       "    <tr style=\"text-align: right;\">\n",
       "      <th></th>\n",
       "      <th>campaign_id</th>\n",
       "      <th>sender</th>\n",
       "      <th>subject_len</th>\n",
       "      <th>body_len</th>\n",
       "      <th>mean_paragraph_len</th>\n",
       "      <th>day_of_week</th>\n",
       "      <th>is_weekend</th>\n",
       "      <th>times_of_day</th>\n",
       "      <th>category</th>\n",
       "      <th>product</th>\n",
       "      <th>...</th>\n",
       "      <th>is_image</th>\n",
       "      <th>is_personalised</th>\n",
       "      <th>is_quote</th>\n",
       "      <th>is_timer</th>\n",
       "      <th>is_emoticons</th>\n",
       "      <th>is_discount</th>\n",
       "      <th>is_price</th>\n",
       "      <th>is_urgency</th>\n",
       "      <th>target_audience</th>\n",
       "      <th>click_rate</th>\n",
       "    </tr>\n",
       "  </thead>\n",
       "  <tbody>\n",
       "    <tr>\n",
       "      <th>0</th>\n",
       "      <td>1</td>\n",
       "      <td>3</td>\n",
       "      <td>76</td>\n",
       "      <td>10439</td>\n",
       "      <td>39</td>\n",
       "      <td>5</td>\n",
       "      <td>1</td>\n",
       "      <td>2</td>\n",
       "      <td>6</td>\n",
       "      <td>26</td>\n",
       "      <td>...</td>\n",
       "      <td>0</td>\n",
       "      <td>0</td>\n",
       "      <td>0</td>\n",
       "      <td>0</td>\n",
       "      <td>0</td>\n",
       "      <td>0</td>\n",
       "      <td>0</td>\n",
       "      <td>0</td>\n",
       "      <td>14</td>\n",
       "      <td>0.103079</td>\n",
       "    </tr>\n",
       "    <tr>\n",
       "      <th>1</th>\n",
       "      <td>2</td>\n",
       "      <td>3</td>\n",
       "      <td>54</td>\n",
       "      <td>2570</td>\n",
       "      <td>256</td>\n",
       "      <td>5</td>\n",
       "      <td>1</td>\n",
       "      <td>3</td>\n",
       "      <td>2</td>\n",
       "      <td>11</td>\n",
       "      <td>...</td>\n",
       "      <td>0</td>\n",
       "      <td>0</td>\n",
       "      <td>0</td>\n",
       "      <td>0</td>\n",
       "      <td>0</td>\n",
       "      <td>0</td>\n",
       "      <td>0</td>\n",
       "      <td>0</td>\n",
       "      <td>10</td>\n",
       "      <td>0.700000</td>\n",
       "    </tr>\n",
       "    <tr>\n",
       "      <th>2</th>\n",
       "      <td>3</td>\n",
       "      <td>3</td>\n",
       "      <td>59</td>\n",
       "      <td>12801</td>\n",
       "      <td>16</td>\n",
       "      <td>5</td>\n",
       "      <td>1</td>\n",
       "      <td>2</td>\n",
       "      <td>2</td>\n",
       "      <td>11</td>\n",
       "      <td>...</td>\n",
       "      <td>1</td>\n",
       "      <td>0</td>\n",
       "      <td>1</td>\n",
       "      <td>0</td>\n",
       "      <td>0</td>\n",
       "      <td>0</td>\n",
       "      <td>0</td>\n",
       "      <td>0</td>\n",
       "      <td>16</td>\n",
       "      <td>0.002769</td>\n",
       "    </tr>\n",
       "    <tr>\n",
       "      <th>3</th>\n",
       "      <td>4</td>\n",
       "      <td>3</td>\n",
       "      <td>74</td>\n",
       "      <td>11037</td>\n",
       "      <td>30</td>\n",
       "      <td>4</td>\n",
       "      <td>0</td>\n",
       "      <td>1</td>\n",
       "      <td>15</td>\n",
       "      <td>9</td>\n",
       "      <td>...</td>\n",
       "      <td>0</td>\n",
       "      <td>0</td>\n",
       "      <td>0</td>\n",
       "      <td>0</td>\n",
       "      <td>0</td>\n",
       "      <td>0</td>\n",
       "      <td>0</td>\n",
       "      <td>0</td>\n",
       "      <td>10</td>\n",
       "      <td>0.010868</td>\n",
       "    </tr>\n",
       "    <tr>\n",
       "      <th>4</th>\n",
       "      <td>5</td>\n",
       "      <td>3</td>\n",
       "      <td>80</td>\n",
       "      <td>10011</td>\n",
       "      <td>27</td>\n",
       "      <td>5</td>\n",
       "      <td>1</td>\n",
       "      <td>2</td>\n",
       "      <td>6</td>\n",
       "      <td>26</td>\n",
       "      <td>...</td>\n",
       "      <td>0</td>\n",
       "      <td>0</td>\n",
       "      <td>1</td>\n",
       "      <td>0</td>\n",
       "      <td>0</td>\n",
       "      <td>0</td>\n",
       "      <td>0</td>\n",
       "      <td>0</td>\n",
       "      <td>14</td>\n",
       "      <td>0.142826</td>\n",
       "    </tr>\n",
       "  </tbody>\n",
       "</table>\n",
       "<p>5 rows × 22 columns</p>\n",
       "</div>"
      ],
      "text/plain": [
       "   campaign_id  sender  subject_len  body_len  mean_paragraph_len  \\\n",
       "0            1       3           76     10439                  39   \n",
       "1            2       3           54      2570                 256   \n",
       "2            3       3           59     12801                  16   \n",
       "3            4       3           74     11037                  30   \n",
       "4            5       3           80     10011                  27   \n",
       "\n",
       "   day_of_week  is_weekend  times_of_day  category  product  ...  is_image  \\\n",
       "0            5           1             2         6       26  ...         0   \n",
       "1            5           1             3         2       11  ...         0   \n",
       "2            5           1             2         2       11  ...         1   \n",
       "3            4           0             1        15        9  ...         0   \n",
       "4            5           1             2         6       26  ...         0   \n",
       "\n",
       "   is_personalised  is_quote  is_timer  is_emoticons  is_discount  is_price  \\\n",
       "0                0         0         0             0            0         0   \n",
       "1                0         0         0             0            0         0   \n",
       "2                0         1         0             0            0         0   \n",
       "3                0         0         0             0            0         0   \n",
       "4                0         1         0             0            0         0   \n",
       "\n",
       "   is_urgency  target_audience  click_rate  \n",
       "0           0               14    0.103079  \n",
       "1           0               10    0.700000  \n",
       "2           0               16    0.002769  \n",
       "3           0               10    0.010868  \n",
       "4           0               14    0.142826  \n",
       "\n",
       "[5 rows x 22 columns]"
      ]
     },
     "execution_count": 24,
     "metadata": {},
     "output_type": "execute_result"
    }
   ],
   "source": [
    "quantitative_features_list =['campaign_id', 'sender', 'subject_len', 'body_len',\n",
    "       'mean_paragraph_len', 'day_of_week', 'is_weekend', 'times_of_day',\n",
    "       'category', 'product', 'no_of_CTA', 'mean_CTA_len', 'is_image',\n",
    "       'is_personalised', 'is_quote', 'is_timer', 'is_emoticons',\n",
    "       'is_discount', 'is_price', 'is_urgency', 'target_audience',\n",
    "       'click_rate']\n",
    "df_quantitative_values = train_data[quantitative_features_list]\n",
    "df_quantitative_values.head()"
   ]
  },
  {
   "cell_type": "markdown",
   "id": "34c700b9",
   "metadata": {
    "id": "34c700b9"
   },
   "source": [
    "Still, we have a lot of features to analyse here so let's take the strongly correlated quantitative features from this dataset and analyse them one by one"
   ]
  },
  {
   "cell_type": "code",
   "execution_count": 25,
   "id": "ec2aadbe",
   "metadata": {
    "id": "ec2aadbe",
    "outputId": "0224e34a-7707-4c29-d176-5739053e5051"
   },
   "outputs": [
    {
     "data": {
      "text/plain": [
       "['campaign_id',\n",
       " 'subject_len',\n",
       " 'body_len',\n",
       " 'mean_paragraph_len',\n",
       " 'day_of_week',\n",
       " 'is_weekend',\n",
       " 'times_of_day',\n",
       " 'category',\n",
       " 'product',\n",
       " 'no_of_CTA',\n",
       " 'is_quote',\n",
       " 'is_emoticons',\n",
       " 'is_discount',\n",
       " 'is_urgency',\n",
       " 'click_rate']"
      ]
     },
     "execution_count": 25,
     "metadata": {},
     "output_type": "execute_result"
    }
   ],
   "source": [
    "features_to_analyse = [x for x in quantitative_features_list if x in golden_features_list]\n",
    "features_to_analyse.append('click_rate')\n",
    "features_to_analyse"
   ]
  },
  {
   "cell_type": "markdown",
   "id": "cc064863",
   "metadata": {
    "id": "cc064863"
   },
   "source": [
    "Let's look at their distribution."
   ]
  },
  {
   "cell_type": "code",
   "execution_count": 26,
   "id": "c4cfe5a1",
   "metadata": {
    "id": "c4cfe5a1",
    "outputId": "aad9ba25-da07-44d8-a88f-26a6e017073b"
   },
   "outputs": [
    {
     "data": {
      "image/png": "[encoded data removed]",
      "text/plain": [
       "<Figure size 1296x864 with 15 Axes>"
      ]
     },
     "metadata": {
      "needs_background": "light"
     },
     "output_type": "display_data"
    }
   ],
   "source": [
    "fig, ax = plt.subplots(round(len(features_to_analyse) / 3), 3, figsize = (18, 12))\n",
    "\n",
    "for i, ax in enumerate(fig.axes):\n",
    "    if i < len(features_to_analyse) - 1:\n",
    "        sns.regplot(x=features_to_analyse[i],y='click_rate', data=train_data[features_to_analyse], ax=ax,)"
   ]
  },
  {
   "cell_type": "markdown",
   "id": "f53542e2",
   "metadata": {
    "id": "f53542e2"
   },
   "source": [
    "We can see that features such as subject_len, body_len, mean_paragraph_len, no_of_CTA have a big spread but I cannot tell what insights this information gives us"
   ]
  },
  {
   "cell_type": "markdown",
   "id": "e0b2d018",
   "metadata": {},
   "source": [
    "# Step 5: Feature Selection "
   ]
  },
  {
   "cell_type": "code",
   "execution_count": 27,
   "id": "zdovk1L-PTSJ",
   "metadata": {
    "colab": {
     "base_uri": "https://localhost:8080/"
    },
    "id": "zdovk1L-PTSJ",
    "outputId": "674d6679-1221-4dbc-990a-4221e4df3c59"
   },
   "outputs": [
    {
     "data": {
      "text/plain": [
       "Index(['campaign_id', 'sender', 'subject_len', 'body_len',\n",
       "       'mean_paragraph_len', 'day_of_week', 'is_weekend', 'times_of_day',\n",
       "       'category', 'product', 'no_of_CTA', 'mean_CTA_len', 'is_image',\n",
       "       'is_personalised', 'is_quote', 'is_timer', 'is_emoticons',\n",
       "       'is_discount', 'is_price', 'is_urgency', 'target_audience',\n",
       "       'click_rate'],\n",
       "      dtype='object')"
      ]
     },
     "execution_count": 27,
     "metadata": {},
     "output_type": "execute_result"
    }
   ],
   "source": [
    "train_data.columns"
   ]
  },
  {
   "cell_type": "code",
   "execution_count": 28,
   "id": "4qHJd957PbUn",
   "metadata": {
    "colab": {
     "base_uri": "https://localhost:8080/"
    },
    "id": "4qHJd957PbUn",
    "outputId": "f1acae10-6650-4ade-ea1e-434c879e1469"
   },
   "outputs": [
    {
     "data": {
      "text/plain": [
       "Index(['campaign_id', 'sender', 'subject_len', 'body_len',\n",
       "       'mean_paragraph_len', 'day_of_week', 'is_weekend', 'times_of_day',\n",
       "       'category', 'product', 'no_of_CTA', 'mean_CTA_len', 'is_image',\n",
       "       'is_personalised', 'is_quote', 'is_timer', 'is_emoticons',\n",
       "       'is_discount', 'is_price', 'is_urgency', 'target_audience'],\n",
       "      dtype='object')"
      ]
     },
     "execution_count": 28,
     "metadata": {},
     "output_type": "execute_result"
    }
   ],
   "source": [
    "test_data.columns"
   ]
  },
  {
   "cell_type": "code",
   "execution_count": 29,
   "id": "cqt0HzF_PkeQ",
   "metadata": {
    "colab": {
     "base_uri": "https://localhost:8080/",
     "height": 356
    },
    "id": "cqt0HzF_PkeQ",
    "outputId": "0247c20c-69a0-49d5-ff29-dcb8fe69f47f"
   },
   "outputs": [
    {
     "name": "stdout",
     "output_type": "stream",
     "text": [
      "[2.54511100e-02 6.96950275e-02 1.66130110e-01 9.33848829e-02\n",
      " 3.94915376e-02 2.55080111e-02 3.56740096e-02 8.23058881e-02\n",
      " 5.93661448e-02 1.33958043e-01 8.64743262e-02 6.45233013e-02\n",
      " 2.45551352e-02 3.93238387e-02 0.00000000e+00 6.04043140e-03\n",
      " 3.23115775e-04 1.17162651e-04 5.06436860e-03 4.26135553e-02]\n"
     ]
    },
    {
     "data": {
      "image/png": "[encoded data removed]",
      "text/plain": [
       "<Figure size 432x288 with 1 Axes>"
      ]
     },
     "metadata": {
      "needs_background": "light"
     },
     "output_type": "display_data"
    }
   ],
   "source": [
    "from sklearn.ensemble import ExtraTreesRegressor\n",
    "import matplotlib.pyplot as plt\n",
    "model = ExtraTreesRegressor()\n",
    "X = train_data.drop(['campaign_id','click_rate'],axis =1)\n",
    "y = train_data['click_rate']\n",
    "model.fit(X,y)\n",
    "print(model.feature_importances_) #use inbuilt class feature_importances of tree based classifiers\n",
    "#plot graph of feature importances for better visualization\n",
    "feat_importances = pd.Series(model.feature_importances_, index=X.columns)\n",
    "feat_importances.nlargest(15).plot(kind='barh')\n",
    "plt.show()"
   ]
  },
  {
   "cell_type": "code",
   "execution_count": 30,
   "id": "BVY1z5SWLIBH",
   "metadata": {
    "colab": {
     "base_uri": "https://localhost:8080/"
    },
    "id": "BVY1z5SWLIBH",
    "outputId": "0ca70ede-c72d-4f74-9838-2dc851a9ce33"
   },
   "outputs": [
    {
     "data": {
      "text/plain": [
       "Index(['body_len', 'no_of_CTA', 'mean_paragraph_len', 'mean_CTA_len',\n",
       "       'category', 'subject_len', 'is_image', 'product', 'target_audience',\n",
       "       'day_of_week', 'is_quote', 'times_of_day', 'is_weekend', 'sender',\n",
       "       'is_personalised'],\n",
       "      dtype='object')"
      ]
     },
     "execution_count": 30,
     "metadata": {},
     "output_type": "execute_result"
    }
   ],
   "source": [
    "df_feature  = pd.DataFrame(feat_importances.nlargest(15))\n",
    "features = df_feature.index\n",
    "features"
   ]
  },
  {
   "cell_type": "markdown",
   "id": "a86b1cbb",
   "metadata": {},
   "source": [
    "__creating new text data with features ['body_len', 'no_of_CTA', 'mean_paragraph_len', 'mean_CTA_len',\n",
    "       'category', 'subject_len', 'is_image', 'product', 'target_audience',\n",
    "       'day_of_week', 'times_of_day', 'is_quote', 'is_weekend', 'sender',\n",
    "       'is_personalised']__"
   ]
  },
  {
   "cell_type": "code",
   "execution_count": 31,
   "id": "bb2517c4",
   "metadata": {},
   "outputs": [],
   "source": [
    "##create new test data with selected features\n",
    "new_test_data = test_data[['body_len', 'no_of_CTA', 'mean_paragraph_len', 'mean_CTA_len',\n",
    "       'category', 'subject_len', 'is_image', 'product', 'target_audience',\n",
    "       'day_of_week', 'times_of_day', 'is_quote', 'is_weekend', 'sender',\n",
    "       'is_personalised']]"
   ]
  },
  {
   "cell_type": "code",
   "execution_count": 32,
   "id": "acc1bb2d",
   "metadata": {},
   "outputs": [
    {
     "data": {
      "text/html": [
       "<div>\n",
       "<style scoped>\n",
       "    .dataframe tbody tr th:only-of-type {\n",
       "        vertical-align: middle;\n",
       "    }\n",
       "\n",
       "    .dataframe tbody tr th {\n",
       "        vertical-align: top;\n",
       "    }\n",
       "\n",
       "    .dataframe thead th {\n",
       "        text-align: right;\n",
       "    }\n",
       "</style>\n",
       "<table border=\"1\" class=\"dataframe\">\n",
       "  <thead>\n",
       "    <tr style=\"text-align: right;\">\n",
       "      <th></th>\n",
       "      <th>body_len</th>\n",
       "      <th>no_of_CTA</th>\n",
       "      <th>mean_paragraph_len</th>\n",
       "      <th>mean_CTA_len</th>\n",
       "      <th>category</th>\n",
       "      <th>subject_len</th>\n",
       "      <th>is_image</th>\n",
       "      <th>product</th>\n",
       "      <th>target_audience</th>\n",
       "      <th>day_of_week</th>\n",
       "      <th>times_of_day</th>\n",
       "      <th>is_quote</th>\n",
       "      <th>is_weekend</th>\n",
       "      <th>sender</th>\n",
       "      <th>is_personalised</th>\n",
       "    </tr>\n",
       "  </thead>\n",
       "  <tbody>\n",
       "    <tr>\n",
       "      <th>0</th>\n",
       "      <td>12871</td>\n",
       "      <td>3</td>\n",
       "      <td>11</td>\n",
       "      <td>37</td>\n",
       "      <td>6</td>\n",
       "      <td>61</td>\n",
       "      <td>1</td>\n",
       "      <td>26</td>\n",
       "      <td>14</td>\n",
       "      <td>6</td>\n",
       "      <td>2</td>\n",
       "      <td>0</td>\n",
       "      <td>1</td>\n",
       "      <td>3</td>\n",
       "      <td>0</td>\n",
       "    </tr>\n",
       "    <tr>\n",
       "      <th>1</th>\n",
       "      <td>2569</td>\n",
       "      <td>0</td>\n",
       "      <td>256</td>\n",
       "      <td>22</td>\n",
       "      <td>2</td>\n",
       "      <td>54</td>\n",
       "      <td>0</td>\n",
       "      <td>11</td>\n",
       "      <td>10</td>\n",
       "      <td>5</td>\n",
       "      <td>3</td>\n",
       "      <td>0</td>\n",
       "      <td>1</td>\n",
       "      <td>3</td>\n",
       "      <td>0</td>\n",
       "    </tr>\n",
       "    <tr>\n",
       "      <th>2</th>\n",
       "      <td>1473</td>\n",
       "      <td>0</td>\n",
       "      <td>78</td>\n",
       "      <td>22</td>\n",
       "      <td>2</td>\n",
       "      <td>88</td>\n",
       "      <td>1</td>\n",
       "      <td>11</td>\n",
       "      <td>10</td>\n",
       "      <td>4</td>\n",
       "      <td>1</td>\n",
       "      <td>1</td>\n",
       "      <td>0</td>\n",
       "      <td>3</td>\n",
       "      <td>0</td>\n",
       "    </tr>\n",
       "    <tr>\n",
       "      <th>3</th>\n",
       "      <td>1473</td>\n",
       "      <td>0</td>\n",
       "      <td>78</td>\n",
       "      <td>22</td>\n",
       "      <td>2</td>\n",
       "      <td>88</td>\n",
       "      <td>1</td>\n",
       "      <td>11</td>\n",
       "      <td>10</td>\n",
       "      <td>3</td>\n",
       "      <td>1</td>\n",
       "      <td>1</td>\n",
       "      <td>0</td>\n",
       "      <td>3</td>\n",
       "      <td>0</td>\n",
       "    </tr>\n",
       "    <tr>\n",
       "      <th>4</th>\n",
       "      <td>9020</td>\n",
       "      <td>2</td>\n",
       "      <td>29</td>\n",
       "      <td>40</td>\n",
       "      <td>6</td>\n",
       "      <td>78</td>\n",
       "      <td>0</td>\n",
       "      <td>26</td>\n",
       "      <td>14</td>\n",
       "      <td>3</td>\n",
       "      <td>2</td>\n",
       "      <td>0</td>\n",
       "      <td>0</td>\n",
       "      <td>3</td>\n",
       "      <td>0</td>\n",
       "    </tr>\n",
       "  </tbody>\n",
       "</table>\n",
       "</div>"
      ],
      "text/plain": [
       "   body_len  no_of_CTA  mean_paragraph_len  mean_CTA_len  category  \\\n",
       "0     12871          3                  11            37         6   \n",
       "1      2569          0                 256            22         2   \n",
       "2      1473          0                  78            22         2   \n",
       "3      1473          0                  78            22         2   \n",
       "4      9020          2                  29            40         6   \n",
       "\n",
       "   subject_len  is_image  product  target_audience  day_of_week  times_of_day  \\\n",
       "0           61         1       26               14            6             2   \n",
       "1           54         0       11               10            5             3   \n",
       "2           88         1       11               10            4             1   \n",
       "3           88         1       11               10            3             1   \n",
       "4           78         0       26               14            3             2   \n",
       "\n",
       "   is_quote  is_weekend  sender  is_personalised  \n",
       "0         0           1       3                0  \n",
       "1         0           1       3                0  \n",
       "2         1           0       3                0  \n",
       "3         1           0       3                0  \n",
       "4         0           0       3                0  "
      ]
     },
     "execution_count": 32,
     "metadata": {},
     "output_type": "execute_result"
    }
   ],
   "source": [
    "new_test_data.head()"
   ]
  },
  {
   "cell_type": "markdown",
   "id": "e20b9809",
   "metadata": {},
   "source": [
    "# Step 6: Building Model"
   ]
  },
  {
   "cell_type": "code",
   "execution_count": 33,
   "id": "ebe15774",
   "metadata": {
    "id": "ebe15774"
   },
   "outputs": [],
   "source": [
    "# let's see how well our model perform on this new data\n",
    "## 20% data as validation set\n",
    "x_train,x_test,y_train,y_test = train_test_split(X[features],y,test_size = 0.20, random_state= 355)"
   ]
  },
  {
   "cell_type": "code",
   "execution_count": 34,
   "id": "9d62d5f8",
   "metadata": {
    "colab": {
     "base_uri": "https://localhost:8080/"
    },
    "id": "9d62d5f8",
    "outputId": "e8c360ca-7d57-4158-887d-9ab7868674da"
   },
   "outputs": [
    {
     "name": "stdout",
     "output_type": "stream",
     "text": [
      "{'bootstrap': [True, False],\n",
      " 'max_depth': [10, 20, 30, 40, 50, 60, 70, 80, 90, 100, 110, None],\n",
      " 'max_features': ['auto', 'sqrt'],\n",
      " 'min_samples_leaf': [1, 2, 4],\n",
      " 'min_samples_split': [2, 5, 10],\n",
      " 'n_estimators': [200, 400, 600, 800, 1000, 1200, 1400, 1600, 1800, 2000]}\n"
     ]
    }
   ],
   "source": [
    "from sklearn.ensemble import RandomForestRegressor\n",
    "rf = RandomForestRegressor(random_state = 42)\n",
    "from pprint import pprint\n",
    "\n",
    "from sklearn.model_selection import RandomizedSearchCV\n",
    "# Number of trees in random forest\n",
    "n_estimators = [int(x) for x in np.linspace(start = 200, stop = 2000, num = 10)]\n",
    "# Number of features to consider at every split\n",
    "max_features = ['auto', 'sqrt']\n",
    "# Maximum number of levels in tree\n",
    "max_depth = [int(x) for x in np.linspace(10, 110, num = 11)]\n",
    "max_depth.append(None)\n",
    "# Minimum number of samples required to split a node\n",
    "min_samples_split = [2, 5, 10]\n",
    "# Minimum number of samples required at each leaf node\n",
    "min_samples_leaf = [1, 2, 4]\n",
    "# Method of selecting samples for training each tree\n",
    "bootstrap = [True, False]\n",
    "# Create the random grid\n",
    "random_grid = {'n_estimators': n_estimators,\n",
    "               'max_features': max_features,\n",
    "               'max_depth': max_depth,\n",
    "               'min_samples_split': min_samples_split,\n",
    "               'min_samples_leaf': min_samples_leaf,\n",
    "               'bootstrap': bootstrap}\n",
    "pprint(random_grid)\n"
   ]
  },
  {
   "cell_type": "code",
   "execution_count": 40,
   "id": "e640e92e",
   "metadata": {
    "colab": {
     "base_uri": "https://localhost:8080/"
    },
    "id": "e640e92e",
    "outputId": "10cded8d-9af3-4a53-86da-85cb870395dc"
   },
   "outputs": [
    {
     "name": "stdout",
     "output_type": "stream",
     "text": [
      "Fitting 5 folds for each of 50 candidates, totalling 250 fits\n"
     ]
    },
    {
     "data": {
      "text/html": [
       "<style>#sk-container-id-2 {color: black;background-color: white;}#sk-container-id-2 pre{padding: 0;}#sk-container-id-2 div.sk-toggleable {background-color: white;}#sk-container-id-2 label.sk-toggleable__label {cursor: pointer;display: block;width: 100%;margin-bottom: 0;padding: 0.3em;box-sizing: border-box;text-align: center;}#sk-container-id-2 label.sk-toggleable__label-arrow:before {content: \"▸\";float: left;margin-right: 0.25em;color: #696969;}#sk-container-id-2 label.sk-toggleable__label-arrow:hover:before {color: black;}#sk-container-id-2 div.sk-estimator:hover label.sk-toggleable__label-arrow:before {color: black;}#sk-container-id-2 div.sk-toggleable__content {max-height: 0;max-width: 0;overflow: hidden;text-align: left;background-color: #f0f8ff;}#sk-container-id-2 div.sk-toggleable__content pre {margin: 0.2em;color: black;border-radius: 0.25em;background-color: #f0f8ff;}#sk-container-id-2 input.sk-toggleable__control:checked~div.sk-toggleable__content {max-height: 200px;max-width: 100%;overflow: auto;}#sk-container-id-2 input.sk-toggleable__control:checked~label.sk-toggleable__label-arrow:before {content: \"▾\";}#sk-container-id-2 div.sk-estimator input.sk-toggleable__control:checked~label.sk-toggleable__label {background-color: #d4ebff;}#sk-container-id-2 div.sk-label input.sk-toggleable__control:checked~label.sk-toggleable__label {background-color: #d4ebff;}#sk-container-id-2 input.sk-hidden--visually {border: 0;clip: rect(1px 1px 1px 1px);clip: rect(1px, 1px, 1px, 1px);height: 1px;margin: -1px;overflow: hidden;padding: 0;position: absolute;width: 1px;}#sk-container-id-2 div.sk-estimator {font-family: monospace;background-color: #f0f8ff;border: 1px dotted black;border-radius: 0.25em;box-sizing: border-box;margin-bottom: 0.5em;}#sk-container-id-2 div.sk-estimator:hover {background-color: #d4ebff;}#sk-container-id-2 div.sk-parallel-item::after {content: \"\";width: 100%;border-bottom: 1px solid gray;flex-grow: 1;}#sk-container-id-2 div.sk-label:hover label.sk-toggleable__label {background-color: #d4ebff;}#sk-container-id-2 div.sk-serial::before {content: \"\";position: absolute;border-left: 1px solid gray;box-sizing: border-box;top: 0;bottom: 0;left: 50%;z-index: 0;}#sk-container-id-2 div.sk-serial {display: flex;flex-direction: column;align-items: center;background-color: white;padding-right: 0.2em;padding-left: 0.2em;position: relative;}#sk-container-id-2 div.sk-item {position: relative;z-index: 1;}#sk-container-id-2 div.sk-parallel {display: flex;align-items: stretch;justify-content: center;background-color: white;position: relative;}#sk-container-id-2 div.sk-item::before, #sk-container-id-2 div.sk-parallel-item::before {content: \"\";position: absolute;border-left: 1px solid gray;box-sizing: border-box;top: 0;bottom: 0;left: 50%;z-index: -1;}#sk-container-id-2 div.sk-parallel-item {display: flex;flex-direction: column;z-index: 1;position: relative;background-color: white;}#sk-container-id-2 div.sk-parallel-item:first-child::after {align-self: flex-end;width: 50%;}#sk-container-id-2 div.sk-parallel-item:last-child::after {align-self: flex-start;width: 50%;}#sk-container-id-2 div.sk-parallel-item:only-child::after {width: 0;}#sk-container-id-2 div.sk-dashed-wrapped {border: 1px dashed gray;margin: 0 0.4em 0.5em 0.4em;box-sizing: border-box;padding-bottom: 0.4em;background-color: white;}#sk-container-id-2 div.sk-label label {font-family: monospace;font-weight: bold;display: inline-block;line-height: 1.2em;}#sk-container-id-2 div.sk-label-container {text-align: center;}#sk-container-id-2 div.sk-container {/* jupyter's `normalize.less` sets `[hidden] { display: none; }` but bootstrap.min.css set `[hidden] { display: none !important; }` so we also need the `!important` here to be able to override the default hidden behavior on the sphinx rendered scikit-learn.org. See: https://github.com/scikit-learn/scikit-learn/issues/21755 */display: inline-block !important;position: relative;}#sk-container-id-2 div.sk-text-repr-fallback {display: none;}</style><div id=\"sk-container-id-2\" class=\"sk-top-container\"><div class=\"sk-text-repr-fallback\"><pre>RandomizedSearchCV(cv=5, estimator=RandomForestRegressor(), n_iter=50,\n",
       "                   n_jobs=-1,\n",
       "                   param_distributions={&#x27;bootstrap&#x27;: [True, False],\n",
       "                                        &#x27;max_depth&#x27;: [10, 20, 30, 40, 50, 60,\n",
       "                                                      70, 80, 90, 100, 110,\n",
       "                                                      None],\n",
       "                                        &#x27;max_features&#x27;: [&#x27;auto&#x27;, &#x27;sqrt&#x27;],\n",
       "                                        &#x27;min_samples_leaf&#x27;: [1, 2, 4],\n",
       "                                        &#x27;min_samples_split&#x27;: [2, 5, 10],\n",
       "                                        &#x27;n_estimators&#x27;: [200, 400, 600, 800,\n",
       "                                                         1000, 1200, 1400, 1600,\n",
       "                                                         1800, 2000]},\n",
       "                   random_state=42, verbose=2)</pre><b>In a Jupyter environment, please rerun this cell to show the HTML representation or trust the notebook. <br />On GitHub, the HTML representation is unable to render, please try loading this page with nbviewer.org.</b></div><div class=\"sk-container\" hidden><div class=\"sk-item sk-dashed-wrapped\"><div class=\"sk-label-container\"><div class=\"sk-label sk-toggleable\"><input class=\"sk-toggleable__control sk-hidden--visually\" id=\"sk-estimator-id-4\" type=\"checkbox\" ><label for=\"sk-estimator-id-4\" class=\"sk-toggleable__label sk-toggleable__label-arrow\">RandomizedSearchCV</label><div class=\"sk-toggleable__content\"><pre>RandomizedSearchCV(cv=5, estimator=RandomForestRegressor(), n_iter=50,\n",
       "                   n_jobs=-1,\n",
       "                   param_distributions={&#x27;bootstrap&#x27;: [True, False],\n",
       "                                        &#x27;max_depth&#x27;: [10, 20, 30, 40, 50, 60,\n",
       "                                                      70, 80, 90, 100, 110,\n",
       "                                                      None],\n",
       "                                        &#x27;max_features&#x27;: [&#x27;auto&#x27;, &#x27;sqrt&#x27;],\n",
       "                                        &#x27;min_samples_leaf&#x27;: [1, 2, 4],\n",
       "                                        &#x27;min_samples_split&#x27;: [2, 5, 10],\n",
       "                                        &#x27;n_estimators&#x27;: [200, 400, 600, 800,\n",
       "                                                         1000, 1200, 1400, 1600,\n",
       "                                                         1800, 2000]},\n",
       "                   random_state=42, verbose=2)</pre></div></div></div><div class=\"sk-parallel\"><div class=\"sk-parallel-item\"><div class=\"sk-item\"><div class=\"sk-label-container\"><div class=\"sk-label sk-toggleable\"><input class=\"sk-toggleable__control sk-hidden--visually\" id=\"sk-estimator-id-5\" type=\"checkbox\" ><label for=\"sk-estimator-id-5\" class=\"sk-toggleable__label sk-toggleable__label-arrow\">estimator: RandomForestRegressor</label><div class=\"sk-toggleable__content\"><pre>RandomForestRegressor()</pre></div></div></div><div class=\"sk-serial\"><div class=\"sk-item\"><div class=\"sk-estimator sk-toggleable\"><input class=\"sk-toggleable__control sk-hidden--visually\" id=\"sk-estimator-id-6\" type=\"checkbox\" ><label for=\"sk-estimator-id-6\" class=\"sk-toggleable__label sk-toggleable__label-arrow\">RandomForestRegressor</label><div class=\"sk-toggleable__content\"><pre>RandomForestRegressor()</pre></div></div></div></div></div></div></div></div></div></div>"
      ],
      "text/plain": [
       "RandomizedSearchCV(cv=5, estimator=RandomForestRegressor(), n_iter=50,\n",
       "                   n_jobs=-1,\n",
       "                   param_distributions={'bootstrap': [True, False],\n",
       "                                        'max_depth': [10, 20, 30, 40, 50, 60,\n",
       "                                                      70, 80, 90, 100, 110,\n",
       "                                                      None],\n",
       "                                        'max_features': ['auto', 'sqrt'],\n",
       "                                        'min_samples_leaf': [1, 2, 4],\n",
       "                                        'min_samples_split': [2, 5, 10],\n",
       "                                        'n_estimators': [200, 400, 600, 800,\n",
       "                                                         1000, 1200, 1400, 1600,\n",
       "                                                         1800, 2000]},\n",
       "                   random_state=42, verbose=2)"
      ]
     },
     "execution_count": 40,
     "metadata": {},
     "output_type": "execute_result"
    }
   ],
   "source": [
    "# Use the random grid to search for best hyperparameters\n",
    "# First create the base model to tune\n",
    "rf = RandomForestRegressor()\n",
    "# Random search of parameters, using 5 fold cross validation, \n",
    "# search across 50 different combinations, and use all available cores\n",
    "rf_random = RandomizedSearchCV(estimator = rf, param_distributions = random_grid, n_iter = 50, cv = 5, verbose=2, random_state=42, n_jobs = -1)\n",
    "# Fit the random search model\n",
    "rf_random.fit(x_train,y_train)"
   ]
  },
  {
   "cell_type": "code",
   "execution_count": 140,
   "id": "YYXM3qT4Zkff",
   "metadata": {
    "colab": {
     "base_uri": "https://localhost:8080/"
    },
    "id": "YYXM3qT4Zkff",
    "outputId": "a560b2bd-68a8-48c6-88e7-484c7541eb69"
   },
   "outputs": [
    {
     "name": "stdout",
     "output_type": "stream",
     "text": [
      "Model Performance\n",
      "Average Error: 0.0286 degrees.\n",
      "r2_score = 53.04%.\n"
     ]
    }
   ],
   "source": [
    "def evaluate(model, test_features, test_labels):\n",
    "    predictions = model.predict(test_features)\n",
    "    errors = abs(predictions - test_labels)\n",
    "    R2 = r2_score(test_labels, predictions)\n",
    "    #mape = 100 * np.mean(errors / test_labels)\n",
    "    #accuracy = 100 - mape\n",
    "    print('Model Performance')\n",
    "    print('Average Error: {:0.4f} degrees.'.format(np.mean(errors)))\n",
    "    print('r2_score = {:0.2f}%.'.format(float(R2*100)))\n",
    "    \n",
    "    #return accuracy\n",
    "base_model = RandomForestRegressor(n_estimators = 10, random_state = 42)\n",
    "base_model.fit(x_train,y_train)\n",
    "\n",
    "base_accuracy = evaluate(base_model, x_test,y_test)"
   ]
  },
  {
   "cell_type": "code",
   "execution_count": 42,
   "id": "ijUeAkw8Qvzs",
   "metadata": {
    "colab": {
     "base_uri": "https://localhost:8080/"
    },
    "id": "ijUeAkw8Qvzs",
    "outputId": "08f9d6a8-9562-41f2-ad85-eb2a263199c2"
   },
   "outputs": [
    {
     "name": "stdout",
     "output_type": "stream",
     "text": [
      "Model Performance\n",
      "Average Error: 0.0257 degrees.\n",
      "r2_score = 60.90%.\n"
     ]
    }
   ],
   "source": [
    "best_random = rf_random.best_estimator_\n",
    "random_accuracy = evaluate(best_random,x_test,y_test)"
   ]
  },
  {
   "cell_type": "code",
   "execution_count": 43,
   "id": "-ah-4VWpcVXU",
   "metadata": {
    "id": "-ah-4VWpcVXU"
   },
   "outputs": [],
   "source": [
    "from xgboost import XGBRegressor\n",
    "from xgboost import XGBRFRegressor\n",
    "from sklearn.model_selection import GridSearchCV\n",
    "\n",
    "from sklearn.metrics import mean_squared_error\n",
    "from sklearn.metrics import mean_absolute_error\n",
    "\n",
    "#from sklearn.preprocessing import Imputer"
   ]
  },
  {
   "cell_type": "code",
   "execution_count": 53,
   "id": "UMT-noc9cVUR",
   "metadata": {
    "id": "UMT-noc9cVUR"
   },
   "outputs": [],
   "source": [
    "#XGBoost hyper-parameter tuning\n",
    "def hyperParameterTuning(X_train, y_train):\n",
    "    param_tuning = {\n",
    "        'learning_rate': [0.01, 0.1],\n",
    "        'max_depth': [3, 5, 7, 10],\n",
    "        'min_child_weight': [1, 3, 5],\n",
    "        'subsample': [0.5, 0.7],\n",
    "        'colsample_bytree': [0.5, 0.7],\n",
    "        'n_estimators' : [100, 200, 500],\n",
    "        'objective': ['reg:squarederror']\n",
    "    }\n",
    "\n",
    "    xgb_model = XGBRegressor()\n",
    "\n",
    "    gsearch = GridSearchCV(estimator = xgb_model,\n",
    "                           param_grid = param_tuning,                        \n",
    "                           scoring = 'neg_mean_absolute_error', #MAE\n",
    "                           #scoring = 'neg_mean_squared_error',  #MSE\n",
    "                           cv = 5,\n",
    "                           n_jobs = -1,\n",
    "                           verbose = 1)\n",
    "\n",
    "    gsearch.fit(X_train,y_train)\n",
    "\n",
    "    return gsearch.best_params_"
   ]
  },
  {
   "cell_type": "code",
   "execution_count": 54,
   "id": "FX6D53R7dF4a",
   "metadata": {
    "colab": {
     "base_uri": "https://localhost:8080/"
    },
    "id": "FX6D53R7dF4a",
    "outputId": "8e80dfa0-e314-4e5e-b2ce-71b1de3077bd"
   },
   "outputs": [
    {
     "name": "stdout",
     "output_type": "stream",
     "text": [
      "Fitting 5 folds for each of 288 candidates, totalling 1440 fits\n"
     ]
    },
    {
     "data": {
      "text/plain": [
       "{'colsample_bytree': 0.7,\n",
       " 'learning_rate': 0.1,\n",
       " 'max_depth': 7,\n",
       " 'min_child_weight': 1,\n",
       " 'n_estimators': 100,\n",
       " 'objective': 'reg:squarederror',\n",
       " 'subsample': 0.7}"
      ]
     },
     "execution_count": 54,
     "metadata": {},
     "output_type": "execute_result"
    }
   ],
   "source": [
    "hyperParameterTuning(x_train, y_train)"
   ]
  },
  {
   "cell_type": "code",
   "execution_count": 191,
   "id": "xhAxQ_7WcVRE",
   "metadata": {
    "colab": {
     "base_uri": "https://localhost:8080/"
    },
    "id": "xhAxQ_7WcVRE",
    "outputId": "0142c27e-9a0a-4c7d-a95a-9a200b9eb993"
   },
   "outputs": [
    {
     "name": "stdout",
     "output_type": "stream",
     "text": [
      "Wall time: 525 ms\n",
      "MAE:  0.0262049692960297\n",
      "R2:  64.91339784396176\n"
     ]
    }
   ],
   "source": [
    "xgb_model = XGBRegressor(\n",
    "        objective = 'reg:squarederror',\n",
    "        colsample_bytree = 0.4,\n",
    "        learning_rate = 0.1,\n",
    "        max_depth = 32,\n",
    "        min_child_weight = 1,\n",
    "        n_estimators = 120,\n",
    "        subsample = 0.7)\n",
    "##XG Boost model after hyper-parameter tuning\n",
    "%time xgb_model.fit(x_train, y_train, early_stopping_rounds=5, eval_set=[(x_test, y_test)], verbose=False)\n",
    "\n",
    "y_pred_xgb = xgb_model.predict(x_test)\n",
    "\n",
    "mae_xgb = mean_absolute_error(y_test, y_pred_xgb)\n",
    "R2_xgb = r2_score(y_test, y_pred_xgb)\n",
    "\n",
    "print(\"MAE: \", mae_xgb)\n",
    "print(\"R2: \", R2_xgb*100)"
   ]
  },
  {
   "cell_type": "markdown",
   "id": "PTdlOQ7rhUPN",
   "metadata": {
    "id": "PTdlOQ7rhUPN"
   },
   "source": [
    "XG Boost is having greater R2 score, hence we are taking xgb_model for final modelling."
   ]
  },
  {
   "cell_type": "code",
   "execution_count": 89,
   "id": "5c0f3220",
   "metadata": {},
   "outputs": [],
   "source": [
    "param_tuning = {\n",
    "        'learning_rate': [0.01, 0.1],\n",
    "        'max_depth': [3, 5, 7, 10],\n",
    "        'min_child_weight': [1, 3, 5],\n",
    "        'subsample': [0.5, 0.7],\n",
    "        'colsample_bytree': [0.5, 0.7],\n",
    "        'n_estimators' : [100, 200, 500],\n",
    "        'objective': ['reg:squarederror']}"
   ]
  },
  {
   "cell_type": "code",
   "execution_count": 135,
   "id": "3BR4o32RcVLG",
   "metadata": {
    "colab": {
     "base_uri": "https://localhost:8080/"
    },
    "id": "3BR4o32RcVLG",
    "outputId": "bd1cae05-8198-48aa-c014-73370fa69111"
   },
   "outputs": [
    {
     "name": "stdout",
     "output_type": "stream",
     "text": [
      "Fitting 5 folds for each of 50 candidates, totalling 250 fits\n"
     ]
    },
    {
     "data": {
      "text/html": [
       "<style>#sk-container-id-4 {color: black;background-color: white;}#sk-container-id-4 pre{padding: 0;}#sk-container-id-4 div.sk-toggleable {background-color: white;}#sk-container-id-4 label.sk-toggleable__label {cursor: pointer;display: block;width: 100%;margin-bottom: 0;padding: 0.3em;box-sizing: border-box;text-align: center;}#sk-container-id-4 label.sk-toggleable__label-arrow:before {content: \"▸\";float: left;margin-right: 0.25em;color: #696969;}#sk-container-id-4 label.sk-toggleable__label-arrow:hover:before {color: black;}#sk-container-id-4 div.sk-estimator:hover label.sk-toggleable__label-arrow:before {color: black;}#sk-container-id-4 div.sk-toggleable__content {max-height: 0;max-width: 0;overflow: hidden;text-align: left;background-color: #f0f8ff;}#sk-container-id-4 div.sk-toggleable__content pre {margin: 0.2em;color: black;border-radius: 0.25em;background-color: #f0f8ff;}#sk-container-id-4 input.sk-toggleable__control:checked~div.sk-toggleable__content {max-height: 200px;max-width: 100%;overflow: auto;}#sk-container-id-4 input.sk-toggleable__control:checked~label.sk-toggleable__label-arrow:before {content: \"▾\";}#sk-container-id-4 div.sk-estimator input.sk-toggleable__control:checked~label.sk-toggleable__label {background-color: #d4ebff;}#sk-container-id-4 div.sk-label input.sk-toggleable__control:checked~label.sk-toggleable__label {background-color: #d4ebff;}#sk-container-id-4 input.sk-hidden--visually {border: 0;clip: rect(1px 1px 1px 1px);clip: rect(1px, 1px, 1px, 1px);height: 1px;margin: -1px;overflow: hidden;padding: 0;position: absolute;width: 1px;}#sk-container-id-4 div.sk-estimator {font-family: monospace;background-color: #f0f8ff;border: 1px dotted black;border-radius: 0.25em;box-sizing: border-box;margin-bottom: 0.5em;}#sk-container-id-4 div.sk-estimator:hover {background-color: #d4ebff;}#sk-container-id-4 div.sk-parallel-item::after {content: \"\";width: 100%;border-bottom: 1px solid gray;flex-grow: 1;}#sk-container-id-4 div.sk-label:hover label.sk-toggleable__label {background-color: #d4ebff;}#sk-container-id-4 div.sk-serial::before {content: \"\";position: absolute;border-left: 1px solid gray;box-sizing: border-box;top: 0;bottom: 0;left: 50%;z-index: 0;}#sk-container-id-4 div.sk-serial {display: flex;flex-direction: column;align-items: center;background-color: white;padding-right: 0.2em;padding-left: 0.2em;position: relative;}#sk-container-id-4 div.sk-item {position: relative;z-index: 1;}#sk-container-id-4 div.sk-parallel {display: flex;align-items: stretch;justify-content: center;background-color: white;position: relative;}#sk-container-id-4 div.sk-item::before, #sk-container-id-4 div.sk-parallel-item::before {content: \"\";position: absolute;border-left: 1px solid gray;box-sizing: border-box;top: 0;bottom: 0;left: 50%;z-index: -1;}#sk-container-id-4 div.sk-parallel-item {display: flex;flex-direction: column;z-index: 1;position: relative;background-color: white;}#sk-container-id-4 div.sk-parallel-item:first-child::after {align-self: flex-end;width: 50%;}#sk-container-id-4 div.sk-parallel-item:last-child::after {align-self: flex-start;width: 50%;}#sk-container-id-4 div.sk-parallel-item:only-child::after {width: 0;}#sk-container-id-4 div.sk-dashed-wrapped {border: 1px dashed gray;margin: 0 0.4em 0.5em 0.4em;box-sizing: border-box;padding-bottom: 0.4em;background-color: white;}#sk-container-id-4 div.sk-label label {font-family: monospace;font-weight: bold;display: inline-block;line-height: 1.2em;}#sk-container-id-4 div.sk-label-container {text-align: center;}#sk-container-id-4 div.sk-container {/* jupyter's `normalize.less` sets `[hidden] { display: none; }` but bootstrap.min.css set `[hidden] { display: none !important; }` so we also need the `!important` here to be able to override the default hidden behavior on the sphinx rendered scikit-learn.org. See: https://github.com/scikit-learn/scikit-learn/issues/21755 */display: inline-block !important;position: relative;}#sk-container-id-4 div.sk-text-repr-fallback {display: none;}</style><div id=\"sk-container-id-4\" class=\"sk-top-container\"><div class=\"sk-text-repr-fallback\"><pre>RandomizedSearchCV(cv=5,\n",
       "                   estimator=XGBRegressor(base_score=0.5, booster=&#x27;gbtree&#x27;,\n",
       "                                          callbacks=None, colsample_bylevel=1,\n",
       "                                          colsample_bynode=1,\n",
       "                                          colsample_bytree=0.7,\n",
       "                                          early_stopping_rounds=None,\n",
       "                                          enable_categorical=False,\n",
       "                                          eval_metric=None, gamma=0, gpu_id=-1,\n",
       "                                          grow_policy=&#x27;depthwise&#x27;,\n",
       "                                          importance_type=None,\n",
       "                                          interaction_constraints=&#x27;&#x27;,\n",
       "                                          learning_rate=0.1, max_bin=256,\n",
       "                                          max_cat...\n",
       "                                          n_estimators=230, n_jobs=0,\n",
       "                                          num_parallel_tree=1, predictor=&#x27;auto&#x27;,\n",
       "                                          random_state=0, reg_alpha=0,\n",
       "                                          reg_lambda=1, ...),\n",
       "                   n_iter=50, n_jobs=-1,\n",
       "                   param_distributions={&#x27;colsample_bytree&#x27;: [0.5, 0.7],\n",
       "                                        &#x27;learning_rate&#x27;: [0.01, 0.1],\n",
       "                                        &#x27;max_depth&#x27;: [3, 5, 7, 10],\n",
       "                                        &#x27;min_child_weight&#x27;: [1, 3, 5],\n",
       "                                        &#x27;n_estimators&#x27;: [100, 200, 500],\n",
       "                                        &#x27;objective&#x27;: [&#x27;reg:squarederror&#x27;],\n",
       "                                        &#x27;subsample&#x27;: [0.5, 0.7]},\n",
       "                   random_state=42, verbose=2)</pre><b>In a Jupyter environment, please rerun this cell to show the HTML representation or trust the notebook. <br />On GitHub, the HTML representation is unable to render, please try loading this page with nbviewer.org.</b></div><div class=\"sk-container\" hidden><div class=\"sk-item sk-dashed-wrapped\"><div class=\"sk-label-container\"><div class=\"sk-label sk-toggleable\"><input class=\"sk-toggleable__control sk-hidden--visually\" id=\"sk-estimator-id-10\" type=\"checkbox\" ><label for=\"sk-estimator-id-10\" class=\"sk-toggleable__label sk-toggleable__label-arrow\">RandomizedSearchCV</label><div class=\"sk-toggleable__content\"><pre>RandomizedSearchCV(cv=5,\n",
       "                   estimator=XGBRegressor(base_score=0.5, booster=&#x27;gbtree&#x27;,\n",
       "                                          callbacks=None, colsample_bylevel=1,\n",
       "                                          colsample_bynode=1,\n",
       "                                          colsample_bytree=0.7,\n",
       "                                          early_stopping_rounds=None,\n",
       "                                          enable_categorical=False,\n",
       "                                          eval_metric=None, gamma=0, gpu_id=-1,\n",
       "                                          grow_policy=&#x27;depthwise&#x27;,\n",
       "                                          importance_type=None,\n",
       "                                          interaction_constraints=&#x27;&#x27;,\n",
       "                                          learning_rate=0.1, max_bin=256,\n",
       "                                          max_cat...\n",
       "                                          n_estimators=230, n_jobs=0,\n",
       "                                          num_parallel_tree=1, predictor=&#x27;auto&#x27;,\n",
       "                                          random_state=0, reg_alpha=0,\n",
       "                                          reg_lambda=1, ...),\n",
       "                   n_iter=50, n_jobs=-1,\n",
       "                   param_distributions={&#x27;colsample_bytree&#x27;: [0.5, 0.7],\n",
       "                                        &#x27;learning_rate&#x27;: [0.01, 0.1],\n",
       "                                        &#x27;max_depth&#x27;: [3, 5, 7, 10],\n",
       "                                        &#x27;min_child_weight&#x27;: [1, 3, 5],\n",
       "                                        &#x27;n_estimators&#x27;: [100, 200, 500],\n",
       "                                        &#x27;objective&#x27;: [&#x27;reg:squarederror&#x27;],\n",
       "                                        &#x27;subsample&#x27;: [0.5, 0.7]},\n",
       "                   random_state=42, verbose=2)</pre></div></div></div><div class=\"sk-parallel\"><div class=\"sk-parallel-item\"><div class=\"sk-item\"><div class=\"sk-label-container\"><div class=\"sk-label sk-toggleable\"><input class=\"sk-toggleable__control sk-hidden--visually\" id=\"sk-estimator-id-11\" type=\"checkbox\" ><label for=\"sk-estimator-id-11\" class=\"sk-toggleable__label sk-toggleable__label-arrow\">estimator: XGBRegressor</label><div class=\"sk-toggleable__content\"><pre>XGBRegressor(base_score=0.5, booster=&#x27;gbtree&#x27;, callbacks=None,\n",
       "             colsample_bylevel=1, colsample_bynode=1, colsample_bytree=0.7,\n",
       "             early_stopping_rounds=None, enable_categorical=False,\n",
       "             eval_metric=None, gamma=0, gpu_id=-1, grow_policy=&#x27;depthwise&#x27;,\n",
       "             importance_type=None, interaction_constraints=&#x27;&#x27;,\n",
       "             learning_rate=0.1, max_bin=256, max_cat_to_onehot=4,\n",
       "             max_delta_step=0, max_depth=11, max_leaves=0, min_child_weight=1,\n",
       "             missing=nan, monotone_constraints=&#x27;()&#x27;, n_estimators=230, n_jobs=0,\n",
       "             num_parallel_tree=1, predictor=&#x27;auto&#x27;, random_state=0, reg_alpha=0,\n",
       "             reg_lambda=1, ...)</pre></div></div></div><div class=\"sk-serial\"><div class=\"sk-item\"><div class=\"sk-estimator sk-toggleable\"><input class=\"sk-toggleable__control sk-hidden--visually\" id=\"sk-estimator-id-12\" type=\"checkbox\" ><label for=\"sk-estimator-id-12\" class=\"sk-toggleable__label sk-toggleable__label-arrow\">XGBRegressor</label><div class=\"sk-toggleable__content\"><pre>XGBRegressor(base_score=0.5, booster=&#x27;gbtree&#x27;, callbacks=None,\n",
       "             colsample_bylevel=1, colsample_bynode=1, colsample_bytree=0.7,\n",
       "             early_stopping_rounds=None, enable_categorical=False,\n",
       "             eval_metric=None, gamma=0, gpu_id=-1, grow_policy=&#x27;depthwise&#x27;,\n",
       "             importance_type=None, interaction_constraints=&#x27;&#x27;,\n",
       "             learning_rate=0.1, max_bin=256, max_cat_to_onehot=4,\n",
       "             max_delta_step=0, max_depth=11, max_leaves=0, min_child_weight=1,\n",
       "             missing=nan, monotone_constraints=&#x27;()&#x27;, n_estimators=230, n_jobs=0,\n",
       "             num_parallel_tree=1, predictor=&#x27;auto&#x27;, random_state=0, reg_alpha=0,\n",
       "             reg_lambda=1, ...)</pre></div></div></div></div></div></div></div></div></div></div>"
      ],
      "text/plain": [
       "RandomizedSearchCV(cv=5,\n",
       "                   estimator=XGBRegressor(base_score=0.5, booster='gbtree',\n",
       "                                          callbacks=None, colsample_bylevel=1,\n",
       "                                          colsample_bynode=1,\n",
       "                                          colsample_bytree=0.7,\n",
       "                                          early_stopping_rounds=None,\n",
       "                                          enable_categorical=False,\n",
       "                                          eval_metric=None, gamma=0, gpu_id=-1,\n",
       "                                          grow_policy='depthwise',\n",
       "                                          importance_type=None,\n",
       "                                          interaction_constraints='',\n",
       "                                          learning_rate=0.1, max_bin=256,\n",
       "                                          max_cat...\n",
       "                                          n_estimators=230, n_jobs=0,\n",
       "                                          num_parallel_tree=1, predictor='auto',\n",
       "                                          random_state=0, reg_alpha=0,\n",
       "                                          reg_lambda=1, ...),\n",
       "                   n_iter=50, n_jobs=-1,\n",
       "                   param_distributions={'colsample_bytree': [0.5, 0.7],\n",
       "                                        'learning_rate': [0.01, 0.1],\n",
       "                                        'max_depth': [3, 5, 7, 10],\n",
       "                                        'min_child_weight': [1, 3, 5],\n",
       "                                        'n_estimators': [100, 200, 500],\n",
       "                                        'objective': ['reg:squarederror'],\n",
       "                                        'subsample': [0.5, 0.7]},\n",
       "                   random_state=42, verbose=2)"
      ]
     },
     "execution_count": 135,
     "metadata": {},
     "output_type": "execute_result"
    }
   ],
   "source": [
    "# search across 50 different combinations, and use all available cores\n",
    "XG_final = RandomizedSearchCV(estimator = xgb_model, param_distributions = param_tuning, n_iter = 50, cv = 5, verbose=2, random_state=42, n_jobs = -1)\n",
    "# Fit the random search model\n",
    "XG_final.fit(X[features],y)"
   ]
  },
  {
   "cell_type": "code",
   "execution_count": 136,
   "id": "tQ1O7At3cVAM",
   "metadata": {
    "id": "tQ1O7At3cVAM"
   },
   "outputs": [],
   "source": [
    "best_final = XG_final.best_estimator_\n",
    "pred_final = best_final.predict(test_data[features])"
   ]
  },
  {
   "cell_type": "code",
   "execution_count": 146,
   "id": "410731dc",
   "metadata": {},
   "outputs": [],
   "source": []
  },
  {
   "cell_type": "markdown",
   "id": "1f529052",
   "metadata": {},
   "source": [
    "__merge outputs of XG Boost algorithm and randome forest for increasing the r2 value__"
   ]
  },
  {
   "cell_type": "markdown",
   "id": "970e1f03",
   "metadata": {},
   "source": [
    "__Ensemble of two algorithms output which i have used above__"
   ]
  },
  {
   "cell_type": "code",
   "execution_count": 137,
   "id": "b8925d3f",
   "metadata": {},
   "outputs": [
    {
     "data": {
      "text/plain": [
       "array([0.05607467, 0.50750446, 0.16998948, 0.16979209, 0.11037093,\n",
       "       0.0301544 , 0.01151641, 0.01690223, 0.02213677, 0.03445326,\n",
       "       0.03170891, 0.04329545, 0.01250425, 0.02798661, 0.01836698,\n",
       "       0.01690667, 0.01250878, 0.02348543, 0.02561731, 0.03547562,\n",
       "       0.01875441, 0.01833889, 0.01328979, 0.01900965, 0.01752256,\n",
       "       0.01894108, 0.10292122, 0.00692908, 0.11064864, 0.01817787,\n",
       "       0.0151805 , 0.0507682 , 0.01404106, 0.15244442, 0.04780969,\n",
       "       0.03279167, 0.01300848, 0.00758662, 0.01073477, 0.05071831,\n",
       "       0.01264481, 0.03887983, 0.01466286, 0.09358757, 0.05907792,\n",
       "       0.0129166 , 0.0317399 , 0.0282911 , 0.05439223, 0.01490339,\n",
       "       0.02678493, 0.01505276, 0.01516468, 0.02152649, 0.0077469 ,\n",
       "       0.01616555, 0.03544611, 0.01784438, 0.00740019, 0.00612499,\n",
       "       0.08337259, 0.00859909, 0.02034003, 0.00808701, 0.01816401,\n",
       "       0.01950484, 0.00842388, 0.06140038, 0.02203148, 0.06522369,\n",
       "       0.01608028, 0.17391026, 0.01631156, 0.01367004, 0.0999494 ,\n",
       "       0.09781771, 0.00857368, 0.04888353, 0.01119471, 0.09042541,\n",
       "       0.0109634 , 0.02266213, 0.11639296, 0.01510832, 0.01441047,\n",
       "       0.090927  , 0.01592852, 0.01785605, 0.04721489, 0.0172077 ,\n",
       "       0.02177253, 0.01348658, 0.06173465, 0.00937101, 0.01699272,\n",
       "       0.02686993, 0.01940728, 0.05142693, 0.00865587, 0.02058057,\n",
       "       0.08682568, 0.08682568, 0.08682568, 0.00844962, 0.01368254,\n",
       "       0.01165029, 0.01235716, 0.02890364, 0.01319639, 0.05652563,\n",
       "       0.0925545 , 0.0175855 , 0.09618003, 0.02402971, 0.0133356 ,\n",
       "       0.00965766, 0.14948621, 0.08775615, 0.06374571, 0.02003397,\n",
       "       0.01912725, 0.02876393, 0.05689434, 0.00797017, 0.01929369,\n",
       "       0.04270619, 0.02181183, 0.03701419, 0.00686978, 0.02240212,\n",
       "       0.04301604, 0.03492362, 0.01062057, 0.01545054, 0.04089315,\n",
       "       0.04547121, 0.01910256, 0.02133696, 0.01604867, 0.01225211,\n",
       "       0.00635924, 0.08371197, 0.03805958, 0.07007585, 0.16747509,\n",
       "       0.01897151, 0.02591161, 0.09923425, 0.01965716, 0.00954865,\n",
       "       0.06948514, 0.13732742, 0.22904748, 0.02758518, 0.01840181,\n",
       "       0.02700051, 0.0192697 , 0.02496955, 0.01048878, 0.007379  ,\n",
       "       0.01510931, 0.21022615, 0.00488642, 0.01622478, 0.01063385,\n",
       "       0.01784234, 0.01283666, 0.08911134, 0.01066609, 0.00804594,\n",
       "       0.03977126, 0.02249614, 0.11668395, 0.13401012, 0.01299378,\n",
       "       0.04070904, 0.01429449, 0.02089061, 0.08249667, 0.01233244,\n",
       "       0.02009363, 0.09724783, 0.02980354, 0.00837152, 0.01958958,\n",
       "       0.00917907, 0.01152629, 0.04330451, 0.1420495 , 0.12093929,\n",
       "       0.02886527, 0.07381359, 0.03404814, 0.07285552, 0.04640206,\n",
       "       0.09008332, 0.02397823, 0.01284375, 0.05119513, 0.02515467,\n",
       "       0.0418613 , 0.02622619, 0.02729684, 0.01875286, 0.06784765,\n",
       "       0.03843956, 0.04449123, 0.05117097, 0.06865194, 0.01738978,\n",
       "       0.0405504 , 0.01362197, 0.02163205, 0.11986434, 0.02709519,\n",
       "       0.06476149, 0.18556285, 0.04086112, 0.00651079, 0.02042753,\n",
       "       0.06133255, 0.11993807, 0.05365923, 0.06733663, 0.0103223 ,\n",
       "       0.0159741 , 0.04200274, 0.05280739, 0.00999157, 0.02890449,\n",
       "       0.01081585, 0.0095876 , 0.03958102, 0.01717399, 0.01087749,\n",
       "       0.03410986, 0.01147924, 0.05049203, 0.01565292, 0.01375713,\n",
       "       0.01024287, 0.04829765, 0.00864818, 0.0148172 , 0.01557707,\n",
       "       0.01170177, 0.01173475, 0.00807128, 0.01232378, 0.01617447,\n",
       "       0.02362859, 0.03053197, 0.02273911, 0.12556827, 0.01959579,\n",
       "       0.01142161, 0.01646684, 0.01209466, 0.01148044, 0.01509278,\n",
       "       0.01814622, 0.01931505, 0.11232765, 0.01037748, 0.00883449,\n",
       "       0.01090541, 0.04748477, 0.0087104 , 0.00874953, 0.01590914,\n",
       "       0.01522285, 0.03857193, 0.02277275, 0.24121551, 0.01602483,\n",
       "       0.02339809, 0.03369592, 0.03782653, 0.02590701, 0.03456578,\n",
       "       0.02941939, 0.03362856, 0.02027996, 0.06016936, 0.01320428,\n",
       "       0.03687359, 0.01063745, 0.03623973, 0.02119776, 0.01164221,\n",
       "       0.05342324, 0.04804854, 0.02568148, 0.01324657, 0.18156874,\n",
       "       0.12404639, 0.01466335, 0.01756994, 0.03114171, 0.10594769,\n",
       "       0.0139522 , 0.0625788 , 0.07485659, 0.02729375, 0.02494466,\n",
       "       0.02223417, 0.01420251, 0.06838085, 0.19499928, 0.01023476,\n",
       "       0.02077577, 0.03593881, 0.01303101, 0.04112101, 0.01244402,\n",
       "       0.05875989, 0.19416703, 0.1865207 , 0.01340778, 0.01286476,\n",
       "       0.02024462, 0.02364709, 0.0551977 , 0.01141775, 0.01437966,\n",
       "       0.02171122, 0.01103213, 0.01077658, 0.09481435, 0.01384262,\n",
       "       0.05532898, 0.00948066, 0.00974147, 0.0133762 , 0.0362033 ,\n",
       "       0.03159252, 0.02400631, 0.07695016, 0.04589676, 0.01238896,\n",
       "       0.03259829, 0.01152025, 0.28043088, 0.04886506, 0.24366693,\n",
       "       0.06271636, 0.04474289, 0.01054178, 0.01458607, 0.01877209,\n",
       "       0.25651327, 0.00973758, 0.01112801, 0.01457466, 0.01090975,\n",
       "       0.00990739, 0.03604626, 0.03422467, 0.0173142 , 0.01887756,\n",
       "       0.02004547, 0.01706247, 0.01056744, 0.00980802, 0.01335152,\n",
       "       0.01491745, 0.01491745, 0.06135051, 0.0124352 , 0.01455922,\n",
       "       0.00872526, 0.00905684, 0.01304919, 0.0152013 , 0.01388518,\n",
       "       0.01485064, 0.01650372, 0.0331496 , 0.0206018 , 0.07530127,\n",
       "       0.01336802, 0.02762344, 0.0091659 , 0.04905041, 0.08166145,\n",
       "       0.01177373, 0.01252017, 0.0851198 , 0.12756866, 0.01044802,\n",
       "       0.05789466, 0.05083811, 0.01287813, 0.01170377, 0.04565193,\n",
       "       0.15072718, 0.01425454, 0.02780025, 0.02298894, 0.02981065,\n",
       "       0.07814187, 0.01507022, 0.02906785, 0.01519385, 0.01088947,\n",
       "       0.01852415, 0.01211876, 0.03144442, 0.01564194, 0.01476784,\n",
       "       0.01140217, 0.01362173, 0.03130063, 0.0131771 , 0.0135229 ,\n",
       "       0.01276224, 0.01120926, 0.03913681, 0.05748289, 0.06720175,\n",
       "       0.01599205, 0.01413291, 0.01409386, 0.09652719, 0.01165666,\n",
       "       0.02093263, 0.01204454, 0.01392472, 0.07416381, 0.08038498,\n",
       "       0.02149059, 0.11160936, 0.01310525, 0.01510414, 0.01552982,\n",
       "       0.0580721 , 0.01062212, 0.02350691, 0.02212389, 0.06781197,\n",
       "       0.01198418, 0.01602343, 0.01532834, 0.04604358, 0.04579001,\n",
       "       0.01579632, 0.10247871, 0.01306597, 0.02365873, 0.0239813 ,\n",
       "       0.01268987, 0.02011687, 0.01178432, 0.01478409, 0.01531026,\n",
       "       0.013964  , 0.03683975, 0.23991801, 0.01759079, 0.02934827,\n",
       "       0.03553075, 0.01621638, 0.0362426 , 0.03631497, 0.36603025,\n",
       "       0.02842533, 0.01410404, 0.02472286, 0.02733334, 0.07763451,\n",
       "       0.01431678, 0.01753621, 0.05162324, 0.0166943 , 0.01160635,\n",
       "       0.01433531, 0.02503679, 0.02370252, 0.04331084, 0.01183502,\n",
       "       0.15837681, 0.02062802, 0.07209699, 0.02274711, 0.02483184,\n",
       "       0.02949326, 0.01888336, 0.01927536, 0.02112315, 0.01855055,\n",
       "       0.01518923, 0.02777268, 0.06655032, 0.08888817, 0.02267976,\n",
       "       0.03707938, 0.01438529, 0.02817913, 0.01971791, 0.03096132,\n",
       "       0.17221513, 0.04149558, 0.03392296, 0.01331883, 0.02296299,\n",
       "       0.02222396, 0.01823823, 0.01601473, 0.1264054 , 0.3003597 ,\n",
       "       0.11332832, 0.01654197, 0.03316008, 0.02826714, 0.07276355,\n",
       "       0.06137505, 0.04162861, 0.02264374, 0.03992834, 0.0239998 ,\n",
       "       0.04430974, 0.02367738, 0.23760669, 0.1264072 , 0.04294761,\n",
       "       0.29766914, 0.0187599 , 0.03232568, 0.03222113, 0.06387681,\n",
       "       0.0345584 , 0.08400546, 0.07167989, 0.290231  , 0.05406765,\n",
       "       0.02477219, 0.02181026, 0.03063441, 0.03347176, 0.01190146,\n",
       "       0.0413841 , 0.01629978, 0.01890831, 0.02687963, 0.05726729,\n",
       "       0.26053953, 0.01261164, 0.1510506 , 0.06718952, 0.16903403,\n",
       "       0.06558742, 0.07248925, 0.02501157, 0.04308726, 0.10927082,\n",
       "       0.0582137 , 0.03973259, 0.09909053, 0.06456835, 0.02682929,\n",
       "       0.1465127 , 0.0223754 , 0.1002945 , 0.01244528, 0.03902304,\n",
       "       0.04564195, 0.01709838, 0.05466493, 0.01341201, 0.02321025,\n",
       "       0.02186886, 0.07054606, 0.01249583, 0.08083721, 0.09885037,\n",
       "       0.01444789, 0.04301369, 0.01113783, 0.02500923, 0.0297543 ,\n",
       "       0.06427022, 0.01356685, 0.14532362, 0.02826752, 0.032289  ,\n",
       "       0.02156508, 0.02052308, 0.02208305, 0.03662519, 0.02048516,\n",
       "       0.01840442, 0.03409527, 0.03075295, 0.02859939, 0.03250789,\n",
       "       0.05904569, 0.00776594, 0.07937782, 0.02321025, 0.03881156,\n",
       "       0.06052097, 0.03371704, 0.04238812, 0.02911513, 0.10186199,\n",
       "       0.01255955, 0.01782136, 0.01565565, 0.04237986, 0.10393346,\n",
       "       0.04839195, 0.08480067, 0.0828309 , 0.02558503, 0.14076841,\n",
       "       0.02061837, 0.03039629, 0.03432358, 0.02905222, 0.02757481,\n",
       "       0.01901841, 0.0356634 , 0.05459232, 0.05463481, 0.04357767,\n",
       "       0.04691863, 0.03135678, 0.02494005, 0.05501686, 0.08120894,\n",
       "       0.1836567 , 0.11520987, 0.02554757, 0.01755181, 0.12317768,\n",
       "       0.02662487, 0.10119049, 0.05050002, 0.06010845, 0.03485619,\n",
       "       0.09083217, 0.07588746, 0.04494637, 0.03550867, 0.03133389,\n",
       "       0.02474172, 0.03811179, 0.03115646, 0.0374504 , 0.02983298,\n",
       "       0.02426875, 0.01363742, 0.03807274, 0.01435217, 0.02776865,\n",
       "       0.02333197, 0.01428512, 0.0321716 , 0.04363429, 0.08622687,\n",
       "       0.06205385, 0.01923608, 0.05321016, 0.01730711, 0.05238455,\n",
       "       0.02913294, 0.06994032, 0.02353794, 0.04657262, 0.03949887,\n",
       "       0.03422135, 0.10692501, 0.02469346, 0.03832106, 0.02736299,\n",
       "       0.02255586, 0.032962  , 0.01773131, 0.05889817, 0.08158582,\n",
       "       0.10354004, 0.02881499, 0.0322722 , 0.01162853, 0.02802874,\n",
       "       0.03859037, 0.0183134 , 0.02515055, 0.01362901, 0.03407259,\n",
       "       0.03498397, 0.03699432, 0.04550374, 0.08810061, 0.08907585,\n",
       "       0.00963843, 0.01825659, 0.01685545, 0.01204054, 0.02037674,\n",
       "       0.03460821, 0.02656146, 0.03643051, 0.02948314, 0.11478797,\n",
       "       0.1053647 , 0.02110384, 0.07618541, 0.0110141 , 0.01743228,\n",
       "       0.07550973, 0.02108679, 0.05262985, 0.02327885, 0.03409364,\n",
       "       0.02261175, 0.09732453, 0.0523685 , 0.02705402, 0.06441283,\n",
       "       0.07585334, 0.05884157, 0.02610543, 0.15338184, 0.06292018,\n",
       "       0.09693055, 0.07185549, 0.04206644, 0.04228722, 0.070779  ,\n",
       "       0.12505813, 0.05992959, 0.06810541, 0.04415793, 0.01342446,\n",
       "       0.0192111 , 0.02468827, 0.02257634, 0.04151071, 0.04502643,\n",
       "       0.05934373, 0.03494198, 0.04233116, 0.02998911, 0.03310235,\n",
       "       0.02600661, 0.03034747, 0.07024099, 0.04287915, 0.05781772,\n",
       "       0.03741815, 0.02078982, 0.42266953, 0.01110604, 0.31225616,\n",
       "       0.03243258, 0.19452639, 0.01422789, 0.03192725, 0.0292474 ,\n",
       "       0.21021874, 0.03186388], dtype=float32)"
      ]
     },
     "execution_count": 137,
     "metadata": {},
     "output_type": "execute_result"
    }
   ],
   "source": [
    "#Output of XG Boost algorithm for test data\n",
    "pred_final"
   ]
  },
  {
   "cell_type": "code",
   "execution_count": 138,
   "id": "2d0eb2f3",
   "metadata": {},
   "outputs": [],
   "source": [
    "#Output of random forest algorithm for test data\n",
    "pred_final_1 = rf_random .predict(test_data[features])"
   ]
  },
  {
   "cell_type": "code",
   "execution_count": 141,
   "id": "c5a97a0c",
   "metadata": {},
   "outputs": [
    {
     "data": {
      "text/plain": [
       "array([0.05783848, 0.29775985, 0.17356232, 0.20419172, 0.13918315,\n",
       "       0.02677487, 0.00660774, 0.01648661, 0.01638152, 0.02858602,\n",
       "       0.03041147, 0.01133436, 0.02620149, 0.01924393, 0.0143525 ,\n",
       "       0.00764447, 0.00846858, 0.01725072, 0.01513874, 0.04413282,\n",
       "       0.02271816, 0.0212592 , 0.00580357, 0.00716327, 0.0144705 ,\n",
       "       0.01587953, 0.06786885, 0.01217379, 0.09836748, 0.01185823,\n",
       "       0.00953093, 0.05630404, 0.00641134, 0.16088774, 0.02637354,\n",
       "       0.04476303, 0.00595638, 0.00454028, 0.00710294, 0.0241931 ,\n",
       "       0.0093117 , 0.01159166, 0.00832359, 0.0628948 , 0.05667499,\n",
       "       0.00088291, 0.03401308, 0.01814434, 0.03397979, 0.01343619,\n",
       "       0.01820481, 0.00998229, 0.00901299, 0.01824468, 0.00825699,\n",
       "       0.00846707, 0.04533053, 0.01483902, 0.00477885, 0.00377503,\n",
       "       0.06441552, 0.00679597, 0.02797378, 0.00434314, 0.01529017,\n",
       "       0.01142292, 0.0060518 , 0.0665111 , 0.01480202, 0.08203479,\n",
       "       0.01733778, 0.19256395, 0.01863773, 0.01538167, 0.11488572,\n",
       "       0.04822677, 0.00755511, 0.06093585, 0.01062994, 0.06269425,\n",
       "       0.01649673, 0.0081686 , 0.08674634, 0.01237332, 0.02181502,\n",
       "       0.03878024, 0.00555735, 0.01231331, 0.0497282 , 0.00982183,\n",
       "       0.0174928 , 0.01298701, 0.06255705, 0.00849773, 0.00867037,\n",
       "       0.02988474, 0.02071549, 0.04507703, 0.00748146, 0.01507953,\n",
       "       0.07394352, 0.07319288, 0.07319288, 0.0060942 , 0.00850814,\n",
       "       0.01040114, 0.00896382, 0.01288943, 0.01287312, 0.06674263,\n",
       "       0.10971618, 0.01264349, 0.10642289, 0.02022399, 0.00809255,\n",
       "       0.01150553, 0.11844153, 0.10237402, 0.05262374, 0.02454632,\n",
       "       0.01434194, 0.01466369, 0.05091627, 0.00771854, 0.01101573,\n",
       "       0.04485529, 0.01166389, 0.01142713, 0.00859916, 0.02038171,\n",
       "       0.05165617, 0.03056016, 0.00674652, 0.019204  , 0.02593207,\n",
       "       0.03187778, 0.01585685, 0.01594736, 0.01395525, 0.01810269,\n",
       "       0.00431775, 0.04957001, 0.05548223, 0.06098011, 0.15454189,\n",
       "       0.00845586, 0.02454895, 0.08641377, 0.02517054, 0.01411791,\n",
       "       0.05900346, 0.14513402, 0.2426956 , 0.01226942, 0.0180148 ,\n",
       "       0.03217982, 0.07186348, 0.02668382, 0.00791368, 0.00691967,\n",
       "       0.00583278, 0.21105116, 0.00687655, 0.01287848, 0.01019533,\n",
       "       0.02347817, 0.00731535, 0.08834013, 0.00877089, 0.00409383,\n",
       "       0.01682824, 0.02043466, 0.11609032, 0.17548557, 0.01162886,\n",
       "       0.03817019, 0.00667822, 0.01631441, 0.07630388, 0.00471689,\n",
       "       0.01826867, 0.08891512, 0.03131082, 0.00540215, 0.02417347,\n",
       "       0.00484234, 0.01018506, 0.05373459, 0.19028989, 0.09914137,\n",
       "       0.02900373, 0.08576165, 0.03176703, 0.09596982, 0.04416753,\n",
       "       0.08547684, 0.01354785, 0.00907225, 0.06184783, 0.01582695,\n",
       "       0.03934323, 0.01895976, 0.02013972, 0.02024743, 0.06613987,\n",
       "       0.0292352 , 0.02283136, 0.02288301, 0.0696574 , 0.01225663,\n",
       "       0.04172481, 0.01330258, 0.02293769, 0.13675875, 0.01687238,\n",
       "       0.08796307, 0.19733129, 0.05400641, 0.00792742, 0.01087499,\n",
       "       0.02115595, 0.16074093, 0.03516896, 0.06895268, 0.01146884,\n",
       "       0.0104827 , 0.04767437, 0.04771853, 0.00947888, 0.02233948,\n",
       "       0.00848325, 0.00818722, 0.0290826 , 0.00870809, 0.00974312,\n",
       "       0.03746986, 0.00917521, 0.05379263, 0.01432367, 0.01051069,\n",
       "       0.00902595, 0.05003715, 0.00772386, 0.00595925, 0.01784441,\n",
       "       0.00690952, 0.00936799, 0.00667068, 0.00757137, 0.00699749,\n",
       "       0.01806921, 0.02021947, 0.02105864, 0.16101099, 0.01523655,\n",
       "       0.00939493, 0.01030544, 0.00996289, 0.01013012, 0.01434897,\n",
       "       0.02310809, 0.01997608, 0.1059215 , 0.00919659, 0.00711379,\n",
       "       0.01042813, 0.02105447, 0.00609597, 0.00596429, 0.01062331,\n",
       "       0.00721579, 0.03822545, 0.0375499 , 0.23634489, 0.01115187,\n",
       "       0.03157288, 0.03038625, 0.04653934, 0.01444645, 0.0231919 ,\n",
       "       0.02106845, 0.02652721, 0.01428572, 0.05368847, 0.00926043,\n",
       "       0.02450921, 0.00868035, 0.02502644, 0.01743799, 0.00904313,\n",
       "       0.04748945, 0.11609706, 0.0183947 , 0.01322615, 0.15488592,\n",
       "       0.14679723, 0.01048716, 0.01508888, 0.01651136, 0.08955112,\n",
       "       0.01138774, 0.10055313, 0.07248191, 0.01662451, 0.02347063,\n",
       "       0.01656676, 0.01122538, 0.06906548, 0.19169968, 0.01175969,\n",
       "       0.00633091, 0.02948646, 0.00411709, 0.02662506, 0.00440754,\n",
       "       0.06425075, 0.1797952 , 0.16693992, 0.00937075, 0.01198829,\n",
       "       0.01960494, 0.01394809, 0.11880553, 0.00692323, 0.01192001,\n",
       "       0.01788028, 0.01265279, 0.01384044, 0.13328391, 0.00779914,\n",
       "       0.15456732, 0.01042908, 0.00784983, 0.01137581, 0.01499582,\n",
       "       0.02481527, 0.02309837, 0.08642185, 0.0325719 , 0.01067446,\n",
       "       0.03180531, 0.00647164, 0.38370427, 0.03399042, 0.33587516,\n",
       "       0.0535895 , 0.0483012 , 0.00915605, 0.01161982, 0.01177971,\n",
       "       0.32527891, 0.00698668, 0.01239109, 0.01078982, 0.01116763,\n",
       "       0.0052362 , 0.03487608, 0.01163956, 0.01110619, 0.01217757,\n",
       "       0.01809121, 0.01264967, 0.00415972, 0.002454  , 0.00749131,\n",
       "       0.0037135 , 0.00364545, 0.02698223, 0.00575407, 0.01642009,\n",
       "       0.00537652, 0.00836256, 0.01232578, 0.0048087 , 0.01295485,\n",
       "       0.01428887, 0.00767723, 0.02793241, 0.0064849 , 0.05529994,\n",
       "       0.00630021, 0.01188581, 0.00782086, 0.02382644, 0.05009945,\n",
       "       0.01653685, 0.008762  , 0.05982413, 0.18545452, 0.00888298,\n",
       "       0.03642227, 0.01843443, 0.0109305 , 0.00685325, 0.05355411,\n",
       "       0.17629448, 0.01241413, 0.01199981, 0.02550062, 0.01930662,\n",
       "       0.09592826, 0.01134723, 0.03197795, 0.01243902, 0.01011833,\n",
       "       0.01485261, 0.00974616, 0.02102896, 0.01317405, 0.01410565,\n",
       "       0.01308455, 0.01091593, 0.03451106, 0.0113662 , 0.01390512,\n",
       "       0.0309566 , 0.01105842, 0.0176006 , 0.07021696, 0.06738654,\n",
       "       0.01419995, 0.00723294, 0.01119342, 0.11868553, 0.01004011,\n",
       "       0.01416405, 0.01104467, 0.00823061, 0.05706494, 0.05993029,\n",
       "       0.0233607 , 0.09368329, 0.01277935, 0.02201342, 0.01744098,\n",
       "       0.04500723, 0.01927238, 0.01108512, 0.01546853, 0.06728905,\n",
       "       0.00969892, 0.01358163, 0.0149878 , 0.04964601, 0.02321742,\n",
       "       0.01483265, 0.11550192, 0.01809844, 0.0203532 , 0.02828336,\n",
       "       0.01627023, 0.02507636, 0.01767856, 0.01733327, 0.01344422,\n",
       "       0.0166095 , 0.02792584, 0.17905949, 0.0147876 , 0.01810416,\n",
       "       0.02397267, 0.01475888, 0.02268675, 0.03827622, 0.2267663 ,\n",
       "       0.01117049, 0.01568944, 0.01806341, 0.02417497, 0.0521808 ,\n",
       "       0.01190019, 0.01060445, 0.0250175 , 0.01194875, 0.01427143,\n",
       "       0.01520776, 0.02949802, 0.0169984 , 0.03995004, 0.02352648,\n",
       "       0.04493898, 0.01291155, 0.09985339, 0.01752397, 0.01778748,\n",
       "       0.02065751, 0.01206222, 0.01620488, 0.01030801, 0.0140623 ,\n",
       "       0.02122715, 0.02814767, 0.06448018, 0.08005376, 0.02982018,\n",
       "       0.02821847, 0.00896789, 0.03760545, 0.01530077, 0.02774931,\n",
       "       0.22965653, 0.04097727, 0.02288341, 0.01653242, 0.01659088,\n",
       "       0.01825466, 0.01077441, 0.01463583, 0.12478818, 0.20751394,\n",
       "       0.17887741, 0.01513413, 0.03642614, 0.04538168, 0.08772411,\n",
       "       0.04639958, 0.04139751, 0.02109407, 0.02359692, 0.01785757,\n",
       "       0.02175132, 0.01645685, 0.38533288, 0.09352836, 0.09305313,\n",
       "       0.22990031, 0.01445335, 0.03342916, 0.02215962, 0.125     ,\n",
       "       0.01889649, 0.09943342, 0.07973701, 0.34381074, 0.06936346,\n",
       "       0.01853293, 0.02100878, 0.01665278, 0.02683474, 0.00670573,\n",
       "       0.03225303, 0.01574304, 0.0163761 , 0.03164318, 0.0436804 ,\n",
       "       0.28220733, 0.01206514, 0.09918983, 0.04649674, 0.29539094,\n",
       "       0.04702694, 0.04176971, 0.01504499, 0.01536648, 0.14232864,\n",
       "       0.08686142, 0.02824536, 0.09999758, 0.04597573, 0.02534712,\n",
       "       0.17862464, 0.02176703, 0.07366538, 0.00790781, 0.02765302,\n",
       "       0.02816932, 0.01446521, 0.06949836, 0.01185369, 0.05118733,\n",
       "       0.01996214, 0.07396996, 0.00994655, 0.09582413, 0.15322461,\n",
       "       0.01583613, 0.02818606, 0.00934208, 0.01307082, 0.01563483,\n",
       "       0.05443762, 0.00583004, 0.17162867, 0.00625628, 0.0183381 ,\n",
       "       0.01657417, 0.01604242, 0.01009094, 0.03317935, 0.02254084,\n",
       "       0.0215973 , 0.00647726, 0.04163233, 0.0134931 , 0.02475774,\n",
       "       0.00941054, 0.00818438, 0.11183783, 0.05118733, 0.05223763,\n",
       "       0.0525767 , 0.03412282, 0.04286208, 0.02586877, 0.05332682,\n",
       "       0.01210438, 0.00384131, 0.00653211, 0.01666949, 0.08961298,\n",
       "       0.06329644, 0.08199465, 0.09545294, 0.02996743, 0.15706436,\n",
       "       0.03563975, 0.02625242, 0.03117135, 0.019361  , 0.04003757,\n",
       "       0.02061662, 0.01568788, 0.03492552, 0.09211981, 0.02511782,\n",
       "       0.05450773, 0.02922343, 0.0185789 , 0.05222911, 0.06493238,\n",
       "       0.25870134, 0.18953732, 0.02193863, 0.01542557, 0.21771769,\n",
       "       0.02467169, 0.10716449, 0.06827656, 0.07582242, 0.02496164,\n",
       "       0.1438961 , 0.08293095, 0.09399144, 0.0320448 , 0.03445963,\n",
       "       0.02040849, 0.02681042, 0.03940155, 0.04016439, 0.02755937,\n",
       "       0.0289005 , 0.01246119, 0.04487922, 0.00898169, 0.00882799,\n",
       "       0.03697405, 0.01030618, 0.03473031, 0.04532484, 0.08549263,\n",
       "       0.11294918, 0.02434452, 0.03029873, 0.02404096, 0.05943598,\n",
       "       0.0197792 , 0.06023008, 0.03306435, 0.06301842, 0.04867696,\n",
       "       0.03366946, 0.0920866 , 0.038419  , 0.04699934, 0.02293506,\n",
       "       0.02324938, 0.03081991, 0.01824111, 0.0324973 , 0.02213011,\n",
       "       0.15182386, 0.02293961, 0.01606159, 0.01074514, 0.03596331,\n",
       "       0.04744099, 0.02295635, 0.02774467, 0.02039494, 0.03182858,\n",
       "       0.03655993, 0.03654975, 0.0495608 , 0.09828218, 0.09935076,\n",
       "       0.01515224, 0.00989415, 0.01527431, 0.01685632, 0.02654217,\n",
       "       0.02769721, 0.02714957, 0.02602219, 0.02870464, 0.21794342,\n",
       "       0.17117018, 0.03703129, 0.11778689, 0.01551881, 0.01817424,\n",
       "       0.06467336, 0.02485465, 0.05212393, 0.0272466 , 0.03423195,\n",
       "       0.02970764, 0.06149661, 0.06888953, 0.0399026 , 0.06662353,\n",
       "       0.09579804, 0.09002032, 0.02375208, 0.14008448, 0.0380823 ,\n",
       "       0.09118798, 0.0621364 , 0.03568128, 0.03843395, 0.06750423,\n",
       "       0.25990153, 0.0796246 , 0.08277356, 0.04552315, 0.00987019,\n",
       "       0.0140167 , 0.01693828, 0.0233832 , 0.03159387, 0.02812975,\n",
       "       0.03925978, 0.01782052, 0.03101386, 0.02099315, 0.02282565,\n",
       "       0.02641245, 0.03503984, 0.05814659, 0.03284163, 0.05959465,\n",
       "       0.06023453, 0.03833824, 0.26286278, 0.01360675, 0.22413391,\n",
       "       0.00879589, 0.13838108, 0.01290762, 0.01125473, 0.00955248,\n",
       "       0.27294285, 0.01229055])"
      ]
     },
     "execution_count": 141,
     "metadata": {},
     "output_type": "execute_result"
    }
   ],
   "source": [
    "pred_final_1"
   ]
  },
  {
   "cell_type": "markdown",
   "id": "c36a1b4a",
   "metadata": {},
   "source": [
    "__Creating Dataframe for both algorithm__"
   ]
  },
  {
   "cell_type": "code",
   "execution_count": 193,
   "id": "b592aa5c",
   "metadata": {},
   "outputs": [],
   "source": [
    "output_rf = pd.DataFrame(pred_final_1)"
   ]
  },
  {
   "cell_type": "code",
   "execution_count": 194,
   "id": "d6a82cf3",
   "metadata": {},
   "outputs": [],
   "source": [
    "y_pred_xgb = xgb_model.predict(test_data[features])## Output of XG Boost algorithm for test data"
   ]
  },
  {
   "cell_type": "code",
   "execution_count": 195,
   "id": "fc589f90",
   "metadata": {},
   "outputs": [],
   "source": [
    "output_XG_1 = pd.DataFrame(y_pred_xgb)"
   ]
  },
  {
   "cell_type": "code",
   "execution_count": 196,
   "id": "282bdde6",
   "metadata": {},
   "outputs": [],
   "source": [
    "mean_of_output = ((output_XG_1+output_rf)/2)"
   ]
  },
  {
   "cell_type": "markdown",
   "id": "be575bf5",
   "metadata": {},
   "source": [
    "__create submission file__"
   ]
  },
  {
   "cell_type": "code",
   "execution_count": 227,
   "id": "0b255231",
   "metadata": {},
   "outputs": [],
   "source": [
    "y_pred_xgb = xgb_model.predict(test_data[features])"
   ]
  },
  {
   "cell_type": "code",
   "execution_count": 228,
   "id": "f391cf2d",
   "metadata": {},
   "outputs": [],
   "source": [
    "submission = pd.read_csv('sample_submission_LJ2N3ZQ.csv')\n",
    "#final_predictions = XG_final.predict(new_test_data)\n",
    "submission['click_rate'] = y_pred_xgb\n",
    "#only positive predictions for the target variable\n",
    "submission['click_rate'] = submission['click_rate']\n",
    "submission.to_csv('my_submission4.csv', index=False)"
   ]
  },
  {
   "cell_type": "code",
   "execution_count": null,
   "id": "459f722d",
   "metadata": {},
   "outputs": [],
   "source": []
  },
  {
   "cell_type": "code",
   "execution_count": null,
   "id": "93a8bef0",
   "metadata": {},
   "outputs": [],
   "source": []
  },
  {
   "cell_type": "code",
   "execution_count": null,
   "id": "1d740d89",
   "metadata": {},
   "outputs": [],
   "source": []
  },
  {
   "cell_type": "code",
   "execution_count": null,
   "id": "9defc688",
   "metadata": {},
   "outputs": [],
   "source": []
  }
 ],
 "metadata": {
  "colab": {
   "name": "Vibhu.ipynb",
   "provenance": []
  },
  "kernelspec": {
   "display_name": "Python 3 (ipykernel)",
   "language": "python",
   "name": "python3"
  },
  "language_info": {
   "codemirror_mode": {
    "name": "ipython",
    "version": 3
   },
   "file_extension": ".py",
   "mimetype": "text/x-python",
   "name": "python",
   "nbconvert_exporter": "python",
   "pygments_lexer": "ipython3",
   "version": "3.9.7"
  }
 },
 "nbformat": 4,
 "nbformat_minor": 5
}
